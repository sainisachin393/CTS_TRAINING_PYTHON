{
  "nbformat": 4,
  "nbformat_minor": 0,
  "metadata": {
    "colab": {
      "provenance": [],
      "collapsed_sections": []
    },
    "kernelspec": {
      "name": "python3",
      "display_name": "Python 3"
    },
    "language_info": {
      "name": "python"
    }
  },
  "cells": [
    {
      "cell_type": "code",
      "source": [],
      "metadata": {
        "id": "vjPzLY7jc4kd"
      },
      "execution_count": null,
      "outputs": []
    },
    {
      "cell_type": "code",
      "source": [
        "%%writefile script1.py\n",
        "n1= int(input('Enter your first number:'))\n",
        "n2=int(input('Enter your second number:'))\n"
      ],
      "metadata": {
        "colab": {
          "base_uri": "https://localhost:8080/"
        },
        "id": "B_Jt7V4pdRdB",
        "outputId": "4bc586a9-e536-42ca-d059-86d0fdce0129"
      },
      "execution_count": 1,
      "outputs": [
        {
          "output_type": "stream",
          "name": "stdout",
          "text": [
            "Writing script1.py\n"
          ]
        }
      ]
    },
    {
      "cell_type": "code",
      "source": [
        "%%writefile -a script1.py\n",
        "if n1>n2:\n",
        "  print('{} is the largest'.format(n1))\n"
      ],
      "metadata": {
        "id": "KAuLoD_wdcl9",
        "colab": {
          "base_uri": "https://localhost:8080/"
        },
        "outputId": "d9e66062-5076-4f56-dbf1-e665a2a9ea5a"
      },
      "execution_count": 2,
      "outputs": [
        {
          "output_type": "stream",
          "name": "stdout",
          "text": [
            "Appending to script1.py\n"
          ]
        }
      ]
    },
    {
      "cell_type": "code",
      "source": [
        "%%writefile script2.py\n",
        "elif n2>n1:\n",
        "  print('{} is the largest'.format(n2))\n",
        "else:\n",
        "  print(\"both are equal\")"
      ],
      "metadata": {
        "colab": {
          "base_uri": "https://localhost:8080/"
        },
        "id": "PVddoYAuiUzJ",
        "outputId": "a739d4b8-7c5a-43fe-c8b5-a634c1c6e32c"
      },
      "execution_count": 3,
      "outputs": [
        {
          "output_type": "stream",
          "name": "stdout",
          "text": [
            "Writing script2.py\n"
          ]
        }
      ]
    },
    {
      "cell_type": "code",
      "source": [],
      "metadata": {
        "colab": {
          "base_uri": "https://localhost:8080/"
        },
        "id": "VQXHfF_Ti9bU",
        "outputId": "207dc0b4-a93a-4aaa-b817-a447ec96dbba"
      },
      "execution_count": null,
      "outputs": [
        {
          "output_type": "stream",
          "name": "stdout",
          "text": [
            "Enter your first number:2\n",
            "Enter your second number:3\n",
            "2 is the smallest\n"
          ]
        }
      ]
    },
    {
      "cell_type": "code",
      "source": [
        "33\n"
      ],
      "metadata": {
        "id": "AeA2TlpllWb7"
      },
      "execution_count": null,
      "outputs": []
    }
  ]
}