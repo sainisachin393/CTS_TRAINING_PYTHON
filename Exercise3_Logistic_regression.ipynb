{
  "cells": [
    {
      "cell_type": "code",
      "execution_count": null,
      "metadata": {
        "id": "yMzu9UfZYXs9"
      },
      "outputs": [],
      "source": [
        "import pandas as pd\n",
        "import numpy as np\n",
        "import matplotlib.pyplot as plt\n",
        "import seaborn as sns"
      ]
    },
    {
      "cell_type": "code",
      "execution_count": null,
      "metadata": {
        "id": "wlIHnottYXs-"
      },
      "outputs": [],
      "source": [
        "data = pd.read_csv(\"case_study_data.csv\")"
      ]
    },
    {
      "cell_type": "code",
      "execution_count": null,
      "metadata": {
        "id": "76as0nYrYXs-",
        "outputId": "20dd14f7-973b-4011-d893-a11f4734bafe"
      },
      "outputs": [
        {
          "data": {
            "text/plain": [
              "(1000, 21)"
            ]
          },
          "execution_count": 3,
          "metadata": {},
          "output_type": "execute_result"
        }
      ],
      "source": [
        "data.shape"
      ]
    },
    {
      "cell_type": "code",
      "execution_count": null,
      "metadata": {
        "id": "qdhiNVzzYXs_",
        "outputId": "253c27ec-e956-4e99-ca19-8f1b14c42331"
      },
      "outputs": [
        {
          "data": {
            "text/html": [
              "<div>\n",
              "<style scoped>\n",
              "    .dataframe tbody tr th:only-of-type {\n",
              "        vertical-align: middle;\n",
              "    }\n",
              "\n",
              "    .dataframe tbody tr th {\n",
              "        vertical-align: top;\n",
              "    }\n",
              "\n",
              "    .dataframe thead th {\n",
              "        text-align: right;\n",
              "    }\n",
              "</style>\n",
              "<table border=\"1\" class=\"dataframe\">\n",
              "  <thead>\n",
              "    <tr style=\"text-align: right;\">\n",
              "      <th></th>\n",
              "      <th>checkin_acc</th>\n",
              "      <th>duration</th>\n",
              "      <th>credit_history</th>\n",
              "      <th>purpose</th>\n",
              "      <th>amount</th>\n",
              "      <th>svaing_acc</th>\n",
              "      <th>present_emp_since</th>\n",
              "      <th>inst_rate</th>\n",
              "      <th>personal_status</th>\n",
              "      <th>other_debtors</th>\n",
              "      <th>...</th>\n",
              "      <th>property</th>\n",
              "      <th>age</th>\n",
              "      <th>inst_plans</th>\n",
              "      <th>housing</th>\n",
              "      <th>num_credits</th>\n",
              "      <th>job</th>\n",
              "      <th>dependents</th>\n",
              "      <th>telephone</th>\n",
              "      <th>foreign_worker</th>\n",
              "      <th>status</th>\n",
              "    </tr>\n",
              "  </thead>\n",
              "  <tbody>\n",
              "    <tr>\n",
              "      <th>0</th>\n",
              "      <td>A11</td>\n",
              "      <td>9</td>\n",
              "      <td>A34</td>\n",
              "      <td>A43</td>\n",
              "      <td>1754</td>\n",
              "      <td>A65</td>\n",
              "      <td>A75</td>\n",
              "      <td>6</td>\n",
              "      <td>A93</td>\n",
              "      <td>A101</td>\n",
              "      <td>...</td>\n",
              "      <td>A121</td>\n",
              "      <td>101</td>\n",
              "      <td>A143</td>\n",
              "      <td>A152</td>\n",
              "      <td>3</td>\n",
              "      <td>A173</td>\n",
              "      <td>2</td>\n",
              "      <td>A192</td>\n",
              "      <td>A201</td>\n",
              "      <td>1</td>\n",
              "    </tr>\n",
              "    <tr>\n",
              "      <th>1</th>\n",
              "      <td>A12</td>\n",
              "      <td>72</td>\n",
              "      <td>A32</td>\n",
              "      <td>A43</td>\n",
              "      <td>8927</td>\n",
              "      <td>A61</td>\n",
              "      <td>A73</td>\n",
              "      <td>3</td>\n",
              "      <td>A92</td>\n",
              "      <td>A101</td>\n",
              "      <td>...</td>\n",
              "      <td>A121</td>\n",
              "      <td>33</td>\n",
              "      <td>A143</td>\n",
              "      <td>A152</td>\n",
              "      <td>2</td>\n",
              "      <td>A173</td>\n",
              "      <td>2</td>\n",
              "      <td>A191</td>\n",
              "      <td>A201</td>\n",
              "      <td>2</td>\n",
              "    </tr>\n",
              "    <tr>\n",
              "      <th>2</th>\n",
              "      <td>A14</td>\n",
              "      <td>18</td>\n",
              "      <td>A34</td>\n",
              "      <td>A46</td>\n",
              "      <td>3144</td>\n",
              "      <td>A61</td>\n",
              "      <td>A74</td>\n",
              "      <td>3</td>\n",
              "      <td>A93</td>\n",
              "      <td>A101</td>\n",
              "      <td>...</td>\n",
              "      <td>A121</td>\n",
              "      <td>74</td>\n",
              "      <td>A143</td>\n",
              "      <td>A152</td>\n",
              "      <td>2</td>\n",
              "      <td>A172</td>\n",
              "      <td>3</td>\n",
              "      <td>A191</td>\n",
              "      <td>A201</td>\n",
              "      <td>1</td>\n",
              "    </tr>\n",
              "    <tr>\n",
              "      <th>3</th>\n",
              "      <td>A11</td>\n",
              "      <td>63</td>\n",
              "      <td>A32</td>\n",
              "      <td>A42</td>\n",
              "      <td>11823</td>\n",
              "      <td>A61</td>\n",
              "      <td>A74</td>\n",
              "      <td>3</td>\n",
              "      <td>A93</td>\n",
              "      <td>A103</td>\n",
              "      <td>...</td>\n",
              "      <td>A122</td>\n",
              "      <td>68</td>\n",
              "      <td>A143</td>\n",
              "      <td>A153</td>\n",
              "      <td>2</td>\n",
              "      <td>A173</td>\n",
              "      <td>3</td>\n",
              "      <td>A191</td>\n",
              "      <td>A201</td>\n",
              "      <td>1</td>\n",
              "    </tr>\n",
              "    <tr>\n",
              "      <th>4</th>\n",
              "      <td>A11</td>\n",
              "      <td>36</td>\n",
              "      <td>A33</td>\n",
              "      <td>A40</td>\n",
              "      <td>7305</td>\n",
              "      <td>A61</td>\n",
              "      <td>A73</td>\n",
              "      <td>5</td>\n",
              "      <td>A93</td>\n",
              "      <td>A101</td>\n",
              "      <td>...</td>\n",
              "      <td>A124</td>\n",
              "      <td>80</td>\n",
              "      <td>A143</td>\n",
              "      <td>A153</td>\n",
              "      <td>3</td>\n",
              "      <td>A173</td>\n",
              "      <td>3</td>\n",
              "      <td>A191</td>\n",
              "      <td>A201</td>\n",
              "      <td>2</td>\n",
              "    </tr>\n",
              "  </tbody>\n",
              "</table>\n",
              "<p>5 rows × 21 columns</p>\n",
              "</div>"
            ],
            "text/plain": [
              "  checkin_acc  duration credit_history purpose  amount svaing_acc  \\\n",
              "0         A11         9            A34     A43    1754        A65   \n",
              "1         A12        72            A32     A43    8927        A61   \n",
              "2         A14        18            A34     A46    3144        A61   \n",
              "3         A11        63            A32     A42   11823        A61   \n",
              "4         A11        36            A33     A40    7305        A61   \n",
              "\n",
              "  present_emp_since  inst_rate personal_status other_debtors  ...  property  \\\n",
              "0               A75          6             A93          A101  ...      A121   \n",
              "1               A73          3             A92          A101  ...      A121   \n",
              "2               A74          3             A93          A101  ...      A121   \n",
              "3               A74          3             A93          A103  ...      A122   \n",
              "4               A73          5             A93          A101  ...      A124   \n",
              "\n",
              "   age  inst_plans housing num_credits   job dependents  telephone  \\\n",
              "0  101        A143    A152           3  A173          2       A192   \n",
              "1   33        A143    A152           2  A173          2       A191   \n",
              "2   74        A143    A152           2  A172          3       A191   \n",
              "3   68        A143    A153           2  A173          3       A191   \n",
              "4   80        A143    A153           3  A173          3       A191   \n",
              "\n",
              "  foreign_worker status  \n",
              "0           A201      1  \n",
              "1           A201      2  \n",
              "2           A201      1  \n",
              "3           A201      1  \n",
              "4           A201      2  \n",
              "\n",
              "[5 rows x 21 columns]"
            ]
          },
          "execution_count": 4,
          "metadata": {},
          "output_type": "execute_result"
        }
      ],
      "source": [
        "data.head()"
      ]
    },
    {
      "cell_type": "code",
      "execution_count": null,
      "metadata": {
        "id": "Mj4haoDRYXs_",
        "outputId": "aaf8e289-f490-4f22-9a36-67276bd0e130"
      },
      "outputs": [
        {
          "name": "stdout",
          "output_type": "stream",
          "text": [
            "1    700\n",
            "2    300\n",
            "Name: status, dtype: int64\n"
          ]
        },
        {
          "data": {
            "text/plain": [
              "<matplotlib.axes._subplots.AxesSubplot at 0x1d3b0f71910>"
            ]
          },
          "execution_count": 5,
          "metadata": {},
          "output_type": "execute_result"
        },
        {
          "data": {
            "image/png": "[encoded data removed]",
            "text/plain": [
              "<Figure size 432x288 with 1 Axes>"
            ]
          },
          "metadata": {
            "needs_background": "light"
          },
          "output_type": "display_data"
        }
      ],
      "source": [
        "print(data['status'].value_counts())\n",
        "sns.countplot(data['status'])"
      ]
    },
    {
      "cell_type": "code",
      "execution_count": null,
      "metadata": {
        "id": "fGMDfw_FYXs_",
        "outputId": "3995de9b-2eec-4b4c-91c4-166e6b8a8480"
      },
      "outputs": [
        {
          "data": {
            "text/plain": [
              "0    700\n",
              "1    300\n",
              "Name: status, dtype: int64"
            ]
          },
          "execution_count": 7,
          "metadata": {},
          "output_type": "execute_result"
        }
      ],
      "source": [
        "data['status'].value_counts()"
      ]
    },
    {
      "cell_type": "code",
      "execution_count": null,
      "metadata": {
        "id": "YpjRgd8OYXtA",
        "outputId": "e9a8eeb3-fe57-4240-aa2a-9fa202d7532e"
      },
      "outputs": [
        {
          "data": {
            "text/plain": [
              "checkin_acc            4\n",
              "duration              33\n",
              "credit_history         5\n",
              "purpose               10\n",
              "amount               921\n",
              "svaing_acc             5\n",
              "present_emp_since      5\n",
              "inst_rate              4\n",
              "personal_status        4\n",
              "other_debtors          3\n",
              "residing_since         4\n",
              "property               4\n",
              "age                   53\n",
              "inst_plans             3\n",
              "housing                3\n",
              "num_credits            4\n",
              "job                    4\n",
              "dependents             2\n",
              "telephone              2\n",
              "foreign_worker         2\n",
              "status                 2\n",
              "dtype: int64"
            ]
          },
          "execution_count": 8,
          "metadata": {},
          "output_type": "execute_result"
        }
      ],
      "source": [
        "data.nunique()"
      ]
    },
    {
      "cell_type": "code",
      "execution_count": null,
      "metadata": {
        "id": "A64xSTCdYXtA",
        "outputId": "6dc69570-81a6-4a36-996d-b3fbd976b4d0"
      },
      "outputs": [
        {
          "name": "stdout",
          "output_type": "stream",
          "text": [
            "<class 'pandas.core.frame.DataFrame'>\n",
            "RangeIndex: 1000 entries, 0 to 999\n",
            "Data columns (total 21 columns):\n",
            " #   Column             Non-Null Count  Dtype \n",
            "---  ------             --------------  ----- \n",
            " 0   checkin_acc        1000 non-null   object\n",
            " 1   duration           1000 non-null   int64 \n",
            " 2   credit_history     1000 non-null   object\n",
            " 3   purpose            1000 non-null   object\n",
            " 4   amount             1000 non-null   int64 \n",
            " 5   svaing_acc         1000 non-null   object\n",
            " 6   present_emp_since  1000 non-null   object\n",
            " 7   inst_rate          1000 non-null   int64 \n",
            " 8   personal_status    1000 non-null   object\n",
            " 9   other_debtors      1000 non-null   object\n",
            " 10  residing_since     1000 non-null   int64 \n",
            " 11  property           1000 non-null   object\n",
            " 12  age                1000 non-null   int64 \n",
            " 13  inst_plans         1000 non-null   object\n",
            " 14  housing            1000 non-null   object\n",
            " 15  num_credits        1000 non-null   int64 \n",
            " 16  job                1000 non-null   object\n",
            " 17  dependents         1000 non-null   int64 \n",
            " 18  telephone          1000 non-null   object\n",
            " 19  foreign_worker     1000 non-null   object\n",
            " 20  status             1000 non-null   int32 \n",
            "dtypes: int32(1), int64(7), object(13)\n",
            "memory usage: 160.3+ KB\n"
          ]
        }
      ],
      "source": [
        "data.info()"
      ]
    },
    {
      "cell_type": "code",
      "execution_count": null,
      "metadata": {
        "id": "UmzgxuC6YXtA",
        "outputId": "1b305f38-ea4a-4340-93bd-482ff0fa0227"
      },
      "outputs": [
        {
          "data": {
            "text/html": [
              "<div>\n",
              "<style scoped>\n",
              "    .dataframe tbody tr th:only-of-type {\n",
              "        vertical-align: middle;\n",
              "    }\n",
              "\n",
              "    .dataframe tbody tr th {\n",
              "        vertical-align: top;\n",
              "    }\n",
              "\n",
              "    .dataframe thead th {\n",
              "        text-align: right;\n",
              "    }\n",
              "</style>\n",
              "<table border=\"1\" class=\"dataframe\">\n",
              "  <thead>\n",
              "    <tr style=\"text-align: right;\">\n",
              "      <th></th>\n",
              "      <th>duration</th>\n",
              "      <th>amount</th>\n",
              "      <th>inst_rate</th>\n",
              "      <th>residing_since</th>\n",
              "      <th>age</th>\n",
              "      <th>num_credits</th>\n",
              "      <th>dependents</th>\n",
              "      <th>status</th>\n",
              "    </tr>\n",
              "  </thead>\n",
              "  <tbody>\n",
              "    <tr>\n",
              "      <th>count</th>\n",
              "      <td>1000.000000</td>\n",
              "      <td>1000.000000</td>\n",
              "      <td>1000.000000</td>\n",
              "      <td>1000.000000</td>\n",
              "      <td>1000.000000</td>\n",
              "      <td>1000.000000</td>\n",
              "      <td>1000.000000</td>\n",
              "      <td>1000.000000</td>\n",
              "    </tr>\n",
              "    <tr>\n",
              "      <th>mean</th>\n",
              "      <td>31.449000</td>\n",
              "      <td>4907.134000</td>\n",
              "      <td>4.606000</td>\n",
              "      <td>4.407000</td>\n",
              "      <td>53.566000</td>\n",
              "      <td>2.441000</td>\n",
              "      <td>2.155000</td>\n",
              "      <td>0.300000</td>\n",
              "    </tr>\n",
              "    <tr>\n",
              "      <th>std</th>\n",
              "      <td>18.055564</td>\n",
              "      <td>4234.100176</td>\n",
              "      <td>1.572016</td>\n",
              "      <td>1.570292</td>\n",
              "      <td>17.065664</td>\n",
              "      <td>0.697858</td>\n",
              "      <td>0.362086</td>\n",
              "      <td>0.458487</td>\n",
              "    </tr>\n",
              "    <tr>\n",
              "      <th>min</th>\n",
              "      <td>6.000000</td>\n",
              "      <td>375.000000</td>\n",
              "      <td>2.000000</td>\n",
              "      <td>2.000000</td>\n",
              "      <td>29.000000</td>\n",
              "      <td>2.000000</td>\n",
              "      <td>2.000000</td>\n",
              "      <td>0.000000</td>\n",
              "    </tr>\n",
              "    <tr>\n",
              "      <th>25%</th>\n",
              "      <td>18.000000</td>\n",
              "      <td>2048.250000</td>\n",
              "      <td>3.000000</td>\n",
              "      <td>3.000000</td>\n",
              "      <td>41.000000</td>\n",
              "      <td>2.000000</td>\n",
              "      <td>2.000000</td>\n",
              "      <td>0.000000</td>\n",
              "    </tr>\n",
              "    <tr>\n",
              "      <th>50%</th>\n",
              "      <td>27.000000</td>\n",
              "      <td>3479.500000</td>\n",
              "      <td>5.000000</td>\n",
              "      <td>5.000000</td>\n",
              "      <td>50.000000</td>\n",
              "      <td>2.000000</td>\n",
              "      <td>2.000000</td>\n",
              "      <td>0.000000</td>\n",
              "    </tr>\n",
              "    <tr>\n",
              "      <th>75%</th>\n",
              "      <td>36.000000</td>\n",
              "      <td>5958.500000</td>\n",
              "      <td>6.000000</td>\n",
              "      <td>6.000000</td>\n",
              "      <td>63.000000</td>\n",
              "      <td>3.000000</td>\n",
              "      <td>2.000000</td>\n",
              "      <td>1.000000</td>\n",
              "    </tr>\n",
              "    <tr>\n",
              "      <th>max</th>\n",
              "      <td>108.000000</td>\n",
              "      <td>27636.000000</td>\n",
              "      <td>6.000000</td>\n",
              "      <td>6.000000</td>\n",
              "      <td>113.000000</td>\n",
              "      <td>6.000000</td>\n",
              "      <td>3.000000</td>\n",
              "      <td>1.000000</td>\n",
              "    </tr>\n",
              "  </tbody>\n",
              "</table>\n",
              "</div>"
            ],
            "text/plain": [
              "          duration        amount    inst_rate  residing_since          age  \\\n",
              "count  1000.000000   1000.000000  1000.000000     1000.000000  1000.000000   \n",
              "mean     31.449000   4907.134000     4.606000        4.407000    53.566000   \n",
              "std      18.055564   4234.100176     1.572016        1.570292    17.065664   \n",
              "min       6.000000    375.000000     2.000000        2.000000    29.000000   \n",
              "25%      18.000000   2048.250000     3.000000        3.000000    41.000000   \n",
              "50%      27.000000   3479.500000     5.000000        5.000000    50.000000   \n",
              "75%      36.000000   5958.500000     6.000000        6.000000    63.000000   \n",
              "max     108.000000  27636.000000     6.000000        6.000000   113.000000   \n",
              "\n",
              "       num_credits   dependents       status  \n",
              "count  1000.000000  1000.000000  1000.000000  \n",
              "mean      2.441000     2.155000     0.300000  \n",
              "std       0.697858     0.362086     0.458487  \n",
              "min       2.000000     2.000000     0.000000  \n",
              "25%       2.000000     2.000000     0.000000  \n",
              "50%       2.000000     2.000000     0.000000  \n",
              "75%       3.000000     2.000000     1.000000  \n",
              "max       6.000000     3.000000     1.000000  "
            ]
          },
          "execution_count": 10,
          "metadata": {},
          "output_type": "execute_result"
        }
      ],
      "source": [
        "data.describe()"
      ]
    },
    {
      "cell_type": "code",
      "execution_count": null,
      "metadata": {
        "id": "jTiYLcI6YXtA",
        "outputId": "db2fee57-f8e5-49a8-8003-7d703e61f7a9"
      },
      "outputs": [
        {
          "data": {
            "text/plain": [
              "(array([ 68., 148., 158., 130.,  95.,  67.,  72.,  41.,  32.,  20.,  18.,\n",
              "         27.,  19.,  20.,  15.,  11.,   8.,   8.,   3.,   7.,   5.,   3.,\n",
              "          5.,   5.,   2.,   0.,   3.,   4.,   1.,   2.,   2.,   0.,   0.,\n",
              "          0.,   1.]),\n",
              " array([  375.        ,  1153.88571429,  1932.77142857,  2711.65714286,\n",
              "         3490.54285714,  4269.42857143,  5048.31428571,  5827.2       ,\n",
              "         6606.08571429,  7384.97142857,  8163.85714286,  8942.74285714,\n",
              "         9721.62857143, 10500.51428571, 11279.4       , 12058.28571429,\n",
              "        12837.17142857, 13616.05714286, 14394.94285714, 15173.82857143,\n",
              "        15952.71428571, 16731.6       , 17510.48571429, 18289.37142857,\n",
              "        19068.25714286, 19847.14285714, 20626.02857143, 21404.91428571,\n",
              "        22183.8       , 22962.68571429, 23741.57142857, 24520.45714286,\n",
              "        25299.34285714, 26078.22857143, 26857.11428571, 27636.        ]),\n",
              " <a list of 35 Patch objects>)"
            ]
          },
          "execution_count": 11,
          "metadata": {},
          "output_type": "execute_result"
        },
        {
          "data": {
            "image/png": "[encoded data removed]",
            "text/plain": [
              "<Figure size 432x288 with 1 Axes>"
            ]
          },
          "metadata": {
            "needs_background": "light"
          },
          "output_type": "display_data"
        }
      ],
      "source": [
        "plt.hist(data['amount'], bins='auto')"
      ]
    },
    {
      "cell_type": "code",
      "execution_count": null,
      "metadata": {
        "id": "oNUzn2m-YXtB",
        "outputId": "ed88b263-5960-4ed0-b175-8254e31775d1"
      },
      "outputs": [
        {
          "data": {
            "text/plain": [
              "(array([ 57.,  92., 142., 120.,  72., 144.,  53.,  63.,  56.,  33.,  55.,\n",
              "         17.,  25.,  17.,   9.,  22.,  10.,   6.,   1.,   6.]),\n",
              " array([ 29. ,  33.2,  37.4,  41.6,  45.8,  50. ,  54.2,  58.4,  62.6,\n",
              "         66.8,  71. ,  75.2,  79.4,  83.6,  87.8,  92. ,  96.2, 100.4,\n",
              "        104.6, 108.8, 113. ]),\n",
              " <a list of 20 Patch objects>)"
            ]
          },
          "execution_count": 13,
          "metadata": {},
          "output_type": "execute_result"
        },
        {
          "data": {
            "image/png": "[encoded data removed]",
            "text/plain": [
              "<Figure size 432x288 with 1 Axes>"
            ]
          },
          "metadata": {
            "needs_background": "light"
          },
          "output_type": "display_data"
        }
      ],
      "source": [
        "plt.hist(data['age'], bins='auto')"
      ]
    },
    {
      "cell_type": "markdown",
      "metadata": {
        "id": "Pw3PgnPEYXtB"
      },
      "source": [
        "## MODEL BUILDING"
      ]
    },
    {
      "cell_type": "code",
      "execution_count": null,
      "metadata": {
        "id": "3Y-TcUvJYXtC"
      },
      "outputs": [],
      "source": [
        "from sklearn.model_selection import train_test_split\n",
        "X = data.drop(['status'], axis=1)\n",
        "y = data['status']"
      ]
    },
    {
      "cell_type": "code",
      "execution_count": null,
      "metadata": {
        "id": "zeBpEeoAYXtC",
        "outputId": "e0d6191f-de2a-454c-f938-10aeb31ac088"
      },
      "outputs": [
        {
          "data": {
            "text/plain": [
              "(1000, 20)"
            ]
          },
          "execution_count": 15,
          "metadata": {},
          "output_type": "execute_result"
        }
      ],
      "source": [
        "X.shape"
      ]
    },
    {
      "cell_type": "code",
      "execution_count": null,
      "metadata": {
        "id": "aX2WnAc8YXtC",
        "outputId": "40353a50-e904-4c42-b90f-591110567531"
      },
      "outputs": [
        {
          "data": {
            "text/plain": [
              "(1000,)"
            ]
          },
          "execution_count": 16,
          "metadata": {},
          "output_type": "execute_result"
        }
      ],
      "source": [
        "y.shape"
      ]
    },
    {
      "cell_type": "code",
      "execution_count": null,
      "metadata": {
        "id": "V7s4RgyiYXtD",
        "outputId": "1154c492-7bcb-4f0e-f04a-4e5469c3cd77"
      },
      "outputs": [
        {
          "name": "stdout",
          "output_type": "stream",
          "text": [
            "(700, 20)\n",
            "(300, 20)\n",
            "(700,)\n",
            "(300,)\n"
          ]
        }
      ],
      "source": [
        "X_train, X_test, y_train, y_test = train_test_split(X,y, test_size = 0.3, random_state = 15)\n",
        "print(X_train.shape)\n",
        "print(X_test.shape)\n",
        "print(y_train.shape)\n",
        "print(y_test.shape)"
      ]
    },
    {
      "cell_type": "markdown",
      "metadata": {
        "id": "4jcabJoXYXtG"
      },
      "source": [
        "# MODEL SELECTION "
      ]
    },
    {
      "cell_type": "code",
      "execution_count": null,
      "metadata": {
        "id": "uMLrCOLTYXtH"
      },
      "outputs": [],
      "source": [
        "from sklearn.linear_model import LogisticRegression\n",
        "from sklearn.metrics import accuracy_score\n",
        "logreg = LogisticRegression(random_state=15)"
      ]
    },
    {
      "cell_type": "code",
      "execution_count": null,
      "metadata": {
        "id": "YmFFS7zyYXtH",
        "outputId": "c5e6f02d-4517-427f-8f19-2c043a10a3fb"
      },
      "outputs": [
        {
          "name": "stderr",
          "output_type": "stream",
          "text": [
            "C:\\Users\\91729\\anaconda3\\lib\\site-packages\\sklearn\\linear_model\\_logistic.py:762: ConvergenceWarning: lbfgs failed to converge (status=1):\n",
            "STOP: TOTAL NO. of ITERATIONS REACHED LIMIT.\n",
            "\n",
            "Increase the number of iterations (max_iter) or scale the data as shown in:\n",
            "    https://scikit-learn.org/stable/modules/preprocessing.html\n",
            "Please also refer to the documentation for alternative solver options:\n",
            "    https://scikit-learn.org/stable/modules/linear_model.html#logistic-regression\n",
            "  n_iter_i = _check_optimize_result(\n"
          ]
        },
        {
          "data": {
            "text/plain": [
              "LogisticRegression(random_state=15)"
            ]
          },
          "execution_count": 34,
          "metadata": {},
          "output_type": "execute_result"
        }
      ],
      "source": [
        "logreg.fit(X_train_new, y_train)"
      ]
    },
    {
      "cell_type": "code",
      "execution_count": null,
      "metadata": {
        "scrolled": true,
        "id": "SIHXi0eDYXtH",
        "outputId": "ab2735b9-9e5a-42c6-ab9f-0602b35373ec"
      },
      "outputs": [
        {
          "data": {
            "text/plain": [
              "0.7742857142857142"
            ]
          },
          "execution_count": 35,
          "metadata": {},
          "output_type": "execute_result"
        }
      ],
      "source": [
        "logreg.score(X_train_new, y_train)"
      ]
    },
    {
      "cell_type": "markdown",
      "metadata": {
        "id": "XCmZP4u2YXtH"
      },
      "source": [
        "\n",
        "# TESTING DATA PREPROCESSING"
      ]
    },
    {
      "cell_type": "code",
      "execution_count": null,
      "metadata": {
        "id": "UndSjUZ_YXtH",
        "outputId": "833b222b-a07c-4056-d07f-8e81d940b0c6"
      },
      "outputs": [
        {
          "name": "stdout",
          "output_type": "stream",
          "text": [
            "0.7742857142857142\n",
            "0.74\n"
          ]
        }
      ],
      "source": [
        "# Checking the accuracy of training and test data\n",
        "\n",
        "from sklearn.metrics import accuracy_score\n",
        "y_train_pred = logreg.predict(X_train_new)\n",
        "y_test_pred = logreg.predict(X_test_new)\n",
        "print(accuracy_score(y_train, y_train_pred))\n",
        "print(accuracy_score(y_test, y_test_pred))"
      ]
    },
    {
      "cell_type": "code",
      "execution_count": null,
      "metadata": {
        "scrolled": true,
        "id": "6cVVkVEmYXtH",
        "outputId": "f3129699-b0b3-4dc3-ee98-a512410a8d78"
      },
      "outputs": [
        {
          "name": "stdout",
          "output_type": "stream",
          "text": [
            "              precision    recall  f1-score   support\n",
            "\n",
            " Non-Default       0.79      0.86      0.82       208\n",
            "     Default       0.59      0.48      0.53        92\n",
            "\n",
            "    accuracy                           0.74       300\n",
            "   macro avg       0.69      0.67      0.68       300\n",
            "weighted avg       0.73      0.74      0.73       300\n",
            "\n"
          ]
        }
      ],
      "source": [
        "# Print the classification report\n",
        "y_pred = logreg.predict(X_test_new)\n",
        "from sklearn.metrics import classification_report\n",
        "\n",
        "target_names = ['Non-Default', 'Default']\n",
        "print(classification_report(y_test, y_pred, target_names=target_names))"
      ]
    }
  ],
  "metadata": {
    "kernelspec": {
      "display_name": "Python 3",
      "language": "python",
      "name": "python3"
    },
    "language_info": {
      "codemirror_mode": {
        "name": "ipython",
        "version": 3
      },
      "file_extension": ".py",
      "mimetype": "text/x-python",
      "name": "python",
      "nbconvert_exporter": "python",
      "pygments_lexer": "ipython3",
      "version": "3.8.3"
    },
    "colab": {
      "provenance": []
    }
  },
  "nbformat": 4,
  "nbformat_minor": 0
}