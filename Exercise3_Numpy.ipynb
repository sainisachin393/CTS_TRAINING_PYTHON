{
  "nbformat": 4,
  "nbformat_minor": 0,
  "metadata": {
    "colab": {
      "provenance": []
    },
    "kernelspec": {
      "name": "python3",
      "display_name": "Python 3"
    },
    "language_info": {
      "name": "python"
    }
  },
  "cells": [
    {
      "cell_type": "code",
      "execution_count": null,
      "metadata": {
        "id": "AvjTHEgRXW-f"
      },
      "outputs": [],
      "source": [
        "import numpy as np # importing numpy librabry"
      ]
    },
    {
      "cell_type": "markdown",
      "source": [
        "Definig first list containing ages of 6 people."
      ],
      "metadata": {
        "id": "Pcerh-cdXetA"
      }
    },
    {
      "cell_type": "code",
      "source": [
        "ages_list=[10,5,8,32,65,43]"
      ],
      "metadata": {
        "id": "1mzF463DXZMr"
      },
      "execution_count": null,
      "outputs": []
    },
    {
      "cell_type": "markdown",
      "source": [
        "There are 3 main ways to instantiate a Numpy ndarray object. One of these is to use \n",
        " * np.array(passing the list)"
      ],
      "metadata": {
        "id": "hAMTx_-qXrl-"
      }
    },
    {
      "cell_type": "code",
      "source": [
        "ages=np.array(ages_list)\n",
        "print(type(ages))\n",
        "print(ages)"
      ],
      "metadata": {
        "colab": {
          "base_uri": "https://localhost:8080/"
        },
        "id": "DpT2zdzAXpx-",
        "outputId": "f8657bf3-7747-4ff0-9137-c664cb773472"
      },
      "execution_count": null,
      "outputs": [
        {
          "output_type": "stream",
          "name": "stdout",
          "text": [
            "<class 'numpy.ndarray'>\n",
            "[10  5  8 32 65 43]\n"
          ]
        }
      ]
    },
    {
      "cell_type": "code",
      "source": [
        "print(ages)\n",
        "print(\"size:\\t\",ages.size)\n",
        "print(\"shape:\\t\",ages.shape)"
      ],
      "metadata": {
        "colab": {
          "base_uri": "https://localhost:8080/"
        },
        "id": "MGivUeAtX8xA",
        "outputId": "42962a5b-769f-46db-e60a-f4f683ec1dab"
      },
      "execution_count": null,
      "outputs": [
        {
          "output_type": "stream",
          "name": "stdout",
          "text": [
            "[10  5  8 32 65 43]\n",
            "size:\t 6\n",
            "shape:\t (6,)\n"
          ]
        }
      ]
    },
    {
      "cell_type": "code",
      "source": [
        "zeroArr=np.zeros(5)\n",
        "print(zeroArr)"
      ],
      "metadata": {
        "colab": {
          "base_uri": "https://localhost:8080/"
        },
        "id": "5FAI90dSYNhp",
        "outputId": "cec4c867-079e-4eda-cba4-b3890e750d12"
      },
      "execution_count": null,
      "outputs": [
        {
          "output_type": "stream",
          "name": "stdout",
          "text": [
            "[0. 0. 0. 0. 0.]\n"
          ]
        }
      ]
    },
    {
      "cell_type": "markdown",
      "source": [
        "#Multi_dim\n",
        "Now Let us define a new list containing the weights of 6 peoples"
      ],
      "metadata": {
        "id": "tVNZVnWXYYA8"
      }
    },
    {
      "cell_type": "code",
      "source": [
        "weight_list=[32,18,26,60,55,65]"
      ],
      "metadata": {
        "id": "di4RfTReYUNb"
      },
      "execution_count": null,
      "outputs": []
    },
    {
      "cell_type": "markdown",
      "source": [
        "Now, we define an ndarray containing all fo this information, and again print the size and shape of the array."
      ],
      "metadata": {
        "id": "GwF0T6w6YmmD"
      }
    },
    {
      "cell_type": "code",
      "source": [
        "people=np.array([ages_list,weight_list])\n",
        "print(\"People:\\t\" , people)\n",
        "print(\"Size:\\t\" , people.size)\n",
        "print(\"Shape:\\t\", people.shape)"
      ],
      "metadata": {
        "colab": {
          "base_uri": "https://localhost:8080/"
        },
        "id": "YG3vihqPYlft",
        "outputId": "2c4d6b79-694d-4032-bdb3-cd7e23b34c36"
      },
      "execution_count": null,
      "outputs": [
        {
          "output_type": "stream",
          "name": "stdout",
          "text": [
            "People:\t [[10  5  8 32 65 43]\n",
            " [32 18 26 60 55 65]]\n",
            "Size:\t 12\n",
            "Shape:\t (2, 6)\n"
          ]
        }
      ]
    },
    {
      "cell_type": "code",
      "source": [
        "# 2 x 6 = 1 x 12 = 4 x 3 =3 x 4 =12 x 1\n",
        "people=people.reshape(12,1)\n",
        "print(\"People:\\t\" , people)\n",
        "print(\"Size:\\t\" , people.size)\n",
        "print(\"Shape:\\t\", people.shape)\n"
      ],
      "metadata": {
        "colab": {
          "base_uri": "https://localhost:8080/"
        },
        "id": "KtQTZURWY1D-",
        "outputId": "9b480540-87f4-4fdb-f6fc-44403e78f43a"
      },
      "execution_count": null,
      "outputs": [
        {
          "output_type": "stream",
          "name": "stdout",
          "text": [
            "People:\t [[10]\n",
            " [ 5]\n",
            " [ 8]\n",
            " [32]\n",
            " [65]\n",
            " [43]\n",
            " [32]\n",
            " [18]\n",
            " [26]\n",
            " [60]\n",
            " [55]\n",
            " [65]]\n",
            "Size:\t 12\n",
            "Shape:\t (12, 1)\n"
          ]
        }
      ]
    },
    {
      "cell_type": "markdown",
      "source": [
        "** the new shape should be be the same size as of previous.**"
      ],
      "metadata": {
        "id": "wE0UbwdfZLB2"
      }
    },
    {
      "cell_type": "markdown",
      "source": [
        "#EXERCISE - 1"
      ],
      "metadata": {
        "id": "jsbFsGboZVQ4"
      }
    },
    {
      "cell_type": "code",
      "source": [
        "arr1=[7,9,65,33,85,99]\n",
        "arr=np.array(arr1)"
      ],
      "metadata": {
        "id": "FhMNgI6QZHz2"
      },
      "execution_count": null,
      "outputs": []
    },
    {
      "cell_type": "code",
      "source": [
        "arr"
      ],
      "metadata": {
        "colab": {
          "base_uri": "https://localhost:8080/"
        },
        "id": "EhM1gj0wZdYl",
        "outputId": "90a64bc0-e760-4d8b-c3ed-1f633a00ad8d"
      },
      "execution_count": null,
      "outputs": [
        {
          "output_type": "execute_result",
          "data": {
            "text/plain": [
              "array([ 7,  9, 65, 33, 85, 99])"
            ]
          },
          "metadata": {},
          "execution_count": 19
        }
      ]
    },
    {
      "cell_type": "code",
      "source": [],
      "metadata": {
        "id": "6UD2R7iDZebV"
      },
      "execution_count": null,
      "outputs": []
    },
    {
      "cell_type": "code",
      "source": [
        "matrix=np.array([[1,2,4],[2,3,0],[0,5,1]])"
      ],
      "metadata": {
        "id": "d2lkS8mUZ354"
      },
      "execution_count": null,
      "outputs": []
    },
    {
      "cell_type": "code",
      "source": [
        "matrix"
      ],
      "metadata": {
        "colab": {
          "base_uri": "https://localhost:8080/"
        },
        "id": "tCNyb8E5aJiY",
        "outputId": "512565e1-0e68-40df-9aaa-a03827160401"
      },
      "execution_count": null,
      "outputs": [
        {
          "output_type": "execute_result",
          "data": {
            "text/plain": [
              "array([[1, 2, 4],\n",
              "       [2, 3, 0],\n",
              "       [0, 5, 1]])"
            ]
          },
          "metadata": {},
          "execution_count": 25
        }
      ]
    },
    {
      "cell_type": "code",
      "source": [
        "matrix.reshape(1,9) # changed the shape of above array to 1 x 9"
      ],
      "metadata": {
        "colab": {
          "base_uri": "https://localhost:8080/"
        },
        "id": "vcF1jH2gakli",
        "outputId": "ab6460c7-80cd-40d7-f6c7-5638bedc5b0f"
      },
      "execution_count": null,
      "outputs": [
        {
          "output_type": "execute_result",
          "data": {
            "text/plain": [
              "array([[1, 2, 4, 2, 3, 0, 0, 5, 1]])"
            ]
          },
          "metadata": {},
          "execution_count": 26
        }
      ]
    },
    {
      "cell_type": "markdown",
      "source": [
        "# Array Generation"
      ],
      "metadata": {
        "id": "01QZ2t6XawgI"
      }
    },
    {
      "cell_type": "code",
      "source": [
        "five_times_table=np.arange(0,55,5) # arange will creates a range of number with user stop in it.\n",
        "five_times_table"
      ],
      "metadata": {
        "colab": {
          "base_uri": "https://localhost:8080/"
        },
        "id": "GY5XWXj9aqpr",
        "outputId": "a9bc577d-bcbd-4b7e-c48a-bc6ed31c4079"
      },
      "execution_count": null,
      "outputs": [
        {
          "output_type": "execute_result",
          "data": {
            "text/plain": [
              "array([ 0,  5, 10, 15, 20, 25, 30, 35, 40, 45, 50])"
            ]
          },
          "metadata": {},
          "execution_count": 28
        }
      ]
    },
    {
      "cell_type": "code",
      "source": [
        "five_spaced=np.linspace(0,50,11) # it will  produce a range of evenly spaced values, starting, ending, and taking as many steps as you specify.\n",
        "print(five_spaced)"
      ],
      "metadata": {
        "colab": {
          "base_uri": "https://localhost:8080/"
        },
        "id": "k7QRQK54a67r",
        "outputId": "2f1225a3-2b36-4369-e454-b24f1e806531"
      },
      "execution_count": null,
      "outputs": [
        {
          "output_type": "stream",
          "name": "stdout",
          "text": [
            "[ 0.  5. 10. 15. 20. 25. 30. 35. 40. 45. 50.]\n"
          ]
        }
      ]
    },
    {
      "cell_type": "code",
      "source": [
        "twoArr=np.repeat(2,10) # it will repeat the object as per your specification.\n",
        "twoArr"
      ],
      "metadata": {
        "colab": {
          "base_uri": "https://localhost:8080/"
        },
        "id": "XBoduZ15bLfd",
        "outputId": "99473778-075f-42c8-f8ca-c23a6001aa17"
      },
      "execution_count": null,
      "outputs": [
        {
          "output_type": "execute_result",
          "data": {
            "text/plain": [
              "array([2, 2, 2, 2, 2, 2, 2, 2, 2, 2])"
            ]
          },
          "metadata": {},
          "execution_count": 35
        }
      ]
    },
    {
      "cell_type": "code",
      "source": [
        "identity_matrix=np.eye(6) # it will create identity matrix for us.\n",
        "identity_matrix"
      ],
      "metadata": {
        "colab": {
          "base_uri": "https://localhost:8080/"
        },
        "id": "mP8LHRRubgiO",
        "outputId": "5efe604d-372b-414a-bfaf-1c7a30d106c2"
      },
      "execution_count": null,
      "outputs": [
        {
          "output_type": "execute_result",
          "data": {
            "text/plain": [
              "array([[1., 0., 0., 0., 0., 0.],\n",
              "       [0., 1., 0., 0., 0., 0.],\n",
              "       [0., 0., 1., 0., 0., 0.],\n",
              "       [0., 0., 0., 1., 0., 0.],\n",
              "       [0., 0., 0., 0., 1., 0.],\n",
              "       [0., 0., 0., 0., 0., 1.]])"
            ]
          },
          "metadata": {},
          "execution_count": 36
        }
      ]
    },
    {
      "cell_type": "markdown",
      "source": [
        "# Operations on arrays"
      ],
      "metadata": {
        "id": "1Y-UvgblbyxC"
      }
    },
    {
      "cell_type": "code",
      "source": [
        "print(\"1:\", 2 * five_times_table)\n",
        "print(\"2:\", 10 + five_times_table)\n",
        "print(\"3:\", five_times_table - 1)\n",
        "print(\"4:\", five_times_table/5)\n",
        "print(\"5:\", five_times_table **2)\n",
        "print(\"6:\", five_times_table < 20)"
      ],
      "metadata": {
        "colab": {
          "base_uri": "https://localhost:8080/"
        },
        "id": "CLIWu6D8bsZ8",
        "outputId": "c2a77280-d035-463d-b373-d8e74b784960"
      },
      "execution_count": null,
      "outputs": [
        {
          "output_type": "stream",
          "name": "stdout",
          "text": [
            "1: [  0  10  20  30  40  50  60  70  80  90 100]\n",
            "2: [10 15 20 25 30 35 40 45 50 55 60]\n",
            "3: [-1  4  9 14 19 24 29 34 39 44 49]\n",
            "4: [ 0.  1.  2.  3.  4.  5.  6.  7.  8.  9. 10.]\n",
            "5: [   0   25  100  225  400  625  900 1225 1600 2025 2500]\n",
            "6: [ True  True  True  True False False False False False False False]\n"
          ]
        }
      ]
    },
    {
      "cell_type": "markdown",
      "source": [
        "# Speed Test\n",
        "If we compare the speed at which we can do these operations compared to core python, we will notice a substantial difference."
      ],
      "metadata": {
        "id": "KrxZF0Fwb8F9"
      }
    },
    {
      "cell_type": "code",
      "source": [
        "fives_list = list(range(0,5001,5))\n",
        "fives_list"
      ],
      "metadata": {
        "colab": {
          "base_uri": "https://localhost:8080/"
        },
        "id": "8q7lw7Tvb4bh",
        "outputId": "8d0e0bde-7d62-48ee-fc8b-e669cff51080"
      },
      "execution_count": null,
      "outputs": [
        {
          "output_type": "execute_result",
          "data": {
            "text/plain": [
              "[0,\n",
              " 5,\n",
              " 10,\n",
              " 15,\n",
              " 20,\n",
              " 25,\n",
              " 30,\n",
              " 35,\n",
              " 40,\n",
              " 45,\n",
              " 50,\n",
              " 55,\n",
              " 60,\n",
              " 65,\n",
              " 70,\n",
              " 75,\n",
              " 80,\n",
              " 85,\n",
              " 90,\n",
              " 95,\n",
              " 100,\n",
              " 105,\n",
              " 110,\n",
              " 115,\n",
              " 120,\n",
              " 125,\n",
              " 130,\n",
              " 135,\n",
              " 140,\n",
              " 145,\n",
              " 150,\n",
              " 155,\n",
              " 160,\n",
              " 165,\n",
              " 170,\n",
              " 175,\n",
              " 180,\n",
              " 185,\n",
              " 190,\n",
              " 195,\n",
              " 200,\n",
              " 205,\n",
              " 210,\n",
              " 215,\n",
              " 220,\n",
              " 225,\n",
              " 230,\n",
              " 235,\n",
              " 240,\n",
              " 245,\n",
              " 250,\n",
              " 255,\n",
              " 260,\n",
              " 265,\n",
              " 270,\n",
              " 275,\n",
              " 280,\n",
              " 285,\n",
              " 290,\n",
              " 295,\n",
              " 300,\n",
              " 305,\n",
              " 310,\n",
              " 315,\n",
              " 320,\n",
              " 325,\n",
              " 330,\n",
              " 335,\n",
              " 340,\n",
              " 345,\n",
              " 350,\n",
              " 355,\n",
              " 360,\n",
              " 365,\n",
              " 370,\n",
              " 375,\n",
              " 380,\n",
              " 385,\n",
              " 390,\n",
              " 395,\n",
              " 400,\n",
              " 405,\n",
              " 410,\n",
              " 415,\n",
              " 420,\n",
              " 425,\n",
              " 430,\n",
              " 435,\n",
              " 440,\n",
              " 445,\n",
              " 450,\n",
              " 455,\n",
              " 460,\n",
              " 465,\n",
              " 470,\n",
              " 475,\n",
              " 480,\n",
              " 485,\n",
              " 490,\n",
              " 495,\n",
              " 500,\n",
              " 505,\n",
              " 510,\n",
              " 515,\n",
              " 520,\n",
              " 525,\n",
              " 530,\n",
              " 535,\n",
              " 540,\n",
              " 545,\n",
              " 550,\n",
              " 555,\n",
              " 560,\n",
              " 565,\n",
              " 570,\n",
              " 575,\n",
              " 580,\n",
              " 585,\n",
              " 590,\n",
              " 595,\n",
              " 600,\n",
              " 605,\n",
              " 610,\n",
              " 615,\n",
              " 620,\n",
              " 625,\n",
              " 630,\n",
              " 635,\n",
              " 640,\n",
              " 645,\n",
              " 650,\n",
              " 655,\n",
              " 660,\n",
              " 665,\n",
              " 670,\n",
              " 675,\n",
              " 680,\n",
              " 685,\n",
              " 690,\n",
              " 695,\n",
              " 700,\n",
              " 705,\n",
              " 710,\n",
              " 715,\n",
              " 720,\n",
              " 725,\n",
              " 730,\n",
              " 735,\n",
              " 740,\n",
              " 745,\n",
              " 750,\n",
              " 755,\n",
              " 760,\n",
              " 765,\n",
              " 770,\n",
              " 775,\n",
              " 780,\n",
              " 785,\n",
              " 790,\n",
              " 795,\n",
              " 800,\n",
              " 805,\n",
              " 810,\n",
              " 815,\n",
              " 820,\n",
              " 825,\n",
              " 830,\n",
              " 835,\n",
              " 840,\n",
              " 845,\n",
              " 850,\n",
              " 855,\n",
              " 860,\n",
              " 865,\n",
              " 870,\n",
              " 875,\n",
              " 880,\n",
              " 885,\n",
              " 890,\n",
              " 895,\n",
              " 900,\n",
              " 905,\n",
              " 910,\n",
              " 915,\n",
              " 920,\n",
              " 925,\n",
              " 930,\n",
              " 935,\n",
              " 940,\n",
              " 945,\n",
              " 950,\n",
              " 955,\n",
              " 960,\n",
              " 965,\n",
              " 970,\n",
              " 975,\n",
              " 980,\n",
              " 985,\n",
              " 990,\n",
              " 995,\n",
              " 1000,\n",
              " 1005,\n",
              " 1010,\n",
              " 1015,\n",
              " 1020,\n",
              " 1025,\n",
              " 1030,\n",
              " 1035,\n",
              " 1040,\n",
              " 1045,\n",
              " 1050,\n",
              " 1055,\n",
              " 1060,\n",
              " 1065,\n",
              " 1070,\n",
              " 1075,\n",
              " 1080,\n",
              " 1085,\n",
              " 1090,\n",
              " 1095,\n",
              " 1100,\n",
              " 1105,\n",
              " 1110,\n",
              " 1115,\n",
              " 1120,\n",
              " 1125,\n",
              " 1130,\n",
              " 1135,\n",
              " 1140,\n",
              " 1145,\n",
              " 1150,\n",
              " 1155,\n",
              " 1160,\n",
              " 1165,\n",
              " 1170,\n",
              " 1175,\n",
              " 1180,\n",
              " 1185,\n",
              " 1190,\n",
              " 1195,\n",
              " 1200,\n",
              " 1205,\n",
              " 1210,\n",
              " 1215,\n",
              " 1220,\n",
              " 1225,\n",
              " 1230,\n",
              " 1235,\n",
              " 1240,\n",
              " 1245,\n",
              " 1250,\n",
              " 1255,\n",
              " 1260,\n",
              " 1265,\n",
              " 1270,\n",
              " 1275,\n",
              " 1280,\n",
              " 1285,\n",
              " 1290,\n",
              " 1295,\n",
              " 1300,\n",
              " 1305,\n",
              " 1310,\n",
              " 1315,\n",
              " 1320,\n",
              " 1325,\n",
              " 1330,\n",
              " 1335,\n",
              " 1340,\n",
              " 1345,\n",
              " 1350,\n",
              " 1355,\n",
              " 1360,\n",
              " 1365,\n",
              " 1370,\n",
              " 1375,\n",
              " 1380,\n",
              " 1385,\n",
              " 1390,\n",
              " 1395,\n",
              " 1400,\n",
              " 1405,\n",
              " 1410,\n",
              " 1415,\n",
              " 1420,\n",
              " 1425,\n",
              " 1430,\n",
              " 1435,\n",
              " 1440,\n",
              " 1445,\n",
              " 1450,\n",
              " 1455,\n",
              " 1460,\n",
              " 1465,\n",
              " 1470,\n",
              " 1475,\n",
              " 1480,\n",
              " 1485,\n",
              " 1490,\n",
              " 1495,\n",
              " 1500,\n",
              " 1505,\n",
              " 1510,\n",
              " 1515,\n",
              " 1520,\n",
              " 1525,\n",
              " 1530,\n",
              " 1535,\n",
              " 1540,\n",
              " 1545,\n",
              " 1550,\n",
              " 1555,\n",
              " 1560,\n",
              " 1565,\n",
              " 1570,\n",
              " 1575,\n",
              " 1580,\n",
              " 1585,\n",
              " 1590,\n",
              " 1595,\n",
              " 1600,\n",
              " 1605,\n",
              " 1610,\n",
              " 1615,\n",
              " 1620,\n",
              " 1625,\n",
              " 1630,\n",
              " 1635,\n",
              " 1640,\n",
              " 1645,\n",
              " 1650,\n",
              " 1655,\n",
              " 1660,\n",
              " 1665,\n",
              " 1670,\n",
              " 1675,\n",
              " 1680,\n",
              " 1685,\n",
              " 1690,\n",
              " 1695,\n",
              " 1700,\n",
              " 1705,\n",
              " 1710,\n",
              " 1715,\n",
              " 1720,\n",
              " 1725,\n",
              " 1730,\n",
              " 1735,\n",
              " 1740,\n",
              " 1745,\n",
              " 1750,\n",
              " 1755,\n",
              " 1760,\n",
              " 1765,\n",
              " 1770,\n",
              " 1775,\n",
              " 1780,\n",
              " 1785,\n",
              " 1790,\n",
              " 1795,\n",
              " 1800,\n",
              " 1805,\n",
              " 1810,\n",
              " 1815,\n",
              " 1820,\n",
              " 1825,\n",
              " 1830,\n",
              " 1835,\n",
              " 1840,\n",
              " 1845,\n",
              " 1850,\n",
              " 1855,\n",
              " 1860,\n",
              " 1865,\n",
              " 1870,\n",
              " 1875,\n",
              " 1880,\n",
              " 1885,\n",
              " 1890,\n",
              " 1895,\n",
              " 1900,\n",
              " 1905,\n",
              " 1910,\n",
              " 1915,\n",
              " 1920,\n",
              " 1925,\n",
              " 1930,\n",
              " 1935,\n",
              " 1940,\n",
              " 1945,\n",
              " 1950,\n",
              " 1955,\n",
              " 1960,\n",
              " 1965,\n",
              " 1970,\n",
              " 1975,\n",
              " 1980,\n",
              " 1985,\n",
              " 1990,\n",
              " 1995,\n",
              " 2000,\n",
              " 2005,\n",
              " 2010,\n",
              " 2015,\n",
              " 2020,\n",
              " 2025,\n",
              " 2030,\n",
              " 2035,\n",
              " 2040,\n",
              " 2045,\n",
              " 2050,\n",
              " 2055,\n",
              " 2060,\n",
              " 2065,\n",
              " 2070,\n",
              " 2075,\n",
              " 2080,\n",
              " 2085,\n",
              " 2090,\n",
              " 2095,\n",
              " 2100,\n",
              " 2105,\n",
              " 2110,\n",
              " 2115,\n",
              " 2120,\n",
              " 2125,\n",
              " 2130,\n",
              " 2135,\n",
              " 2140,\n",
              " 2145,\n",
              " 2150,\n",
              " 2155,\n",
              " 2160,\n",
              " 2165,\n",
              " 2170,\n",
              " 2175,\n",
              " 2180,\n",
              " 2185,\n",
              " 2190,\n",
              " 2195,\n",
              " 2200,\n",
              " 2205,\n",
              " 2210,\n",
              " 2215,\n",
              " 2220,\n",
              " 2225,\n",
              " 2230,\n",
              " 2235,\n",
              " 2240,\n",
              " 2245,\n",
              " 2250,\n",
              " 2255,\n",
              " 2260,\n",
              " 2265,\n",
              " 2270,\n",
              " 2275,\n",
              " 2280,\n",
              " 2285,\n",
              " 2290,\n",
              " 2295,\n",
              " 2300,\n",
              " 2305,\n",
              " 2310,\n",
              " 2315,\n",
              " 2320,\n",
              " 2325,\n",
              " 2330,\n",
              " 2335,\n",
              " 2340,\n",
              " 2345,\n",
              " 2350,\n",
              " 2355,\n",
              " 2360,\n",
              " 2365,\n",
              " 2370,\n",
              " 2375,\n",
              " 2380,\n",
              " 2385,\n",
              " 2390,\n",
              " 2395,\n",
              " 2400,\n",
              " 2405,\n",
              " 2410,\n",
              " 2415,\n",
              " 2420,\n",
              " 2425,\n",
              " 2430,\n",
              " 2435,\n",
              " 2440,\n",
              " 2445,\n",
              " 2450,\n",
              " 2455,\n",
              " 2460,\n",
              " 2465,\n",
              " 2470,\n",
              " 2475,\n",
              " 2480,\n",
              " 2485,\n",
              " 2490,\n",
              " 2495,\n",
              " 2500,\n",
              " 2505,\n",
              " 2510,\n",
              " 2515,\n",
              " 2520,\n",
              " 2525,\n",
              " 2530,\n",
              " 2535,\n",
              " 2540,\n",
              " 2545,\n",
              " 2550,\n",
              " 2555,\n",
              " 2560,\n",
              " 2565,\n",
              " 2570,\n",
              " 2575,\n",
              " 2580,\n",
              " 2585,\n",
              " 2590,\n",
              " 2595,\n",
              " 2600,\n",
              " 2605,\n",
              " 2610,\n",
              " 2615,\n",
              " 2620,\n",
              " 2625,\n",
              " 2630,\n",
              " 2635,\n",
              " 2640,\n",
              " 2645,\n",
              " 2650,\n",
              " 2655,\n",
              " 2660,\n",
              " 2665,\n",
              " 2670,\n",
              " 2675,\n",
              " 2680,\n",
              " 2685,\n",
              " 2690,\n",
              " 2695,\n",
              " 2700,\n",
              " 2705,\n",
              " 2710,\n",
              " 2715,\n",
              " 2720,\n",
              " 2725,\n",
              " 2730,\n",
              " 2735,\n",
              " 2740,\n",
              " 2745,\n",
              " 2750,\n",
              " 2755,\n",
              " 2760,\n",
              " 2765,\n",
              " 2770,\n",
              " 2775,\n",
              " 2780,\n",
              " 2785,\n",
              " 2790,\n",
              " 2795,\n",
              " 2800,\n",
              " 2805,\n",
              " 2810,\n",
              " 2815,\n",
              " 2820,\n",
              " 2825,\n",
              " 2830,\n",
              " 2835,\n",
              " 2840,\n",
              " 2845,\n",
              " 2850,\n",
              " 2855,\n",
              " 2860,\n",
              " 2865,\n",
              " 2870,\n",
              " 2875,\n",
              " 2880,\n",
              " 2885,\n",
              " 2890,\n",
              " 2895,\n",
              " 2900,\n",
              " 2905,\n",
              " 2910,\n",
              " 2915,\n",
              " 2920,\n",
              " 2925,\n",
              " 2930,\n",
              " 2935,\n",
              " 2940,\n",
              " 2945,\n",
              " 2950,\n",
              " 2955,\n",
              " 2960,\n",
              " 2965,\n",
              " 2970,\n",
              " 2975,\n",
              " 2980,\n",
              " 2985,\n",
              " 2990,\n",
              " 2995,\n",
              " 3000,\n",
              " 3005,\n",
              " 3010,\n",
              " 3015,\n",
              " 3020,\n",
              " 3025,\n",
              " 3030,\n",
              " 3035,\n",
              " 3040,\n",
              " 3045,\n",
              " 3050,\n",
              " 3055,\n",
              " 3060,\n",
              " 3065,\n",
              " 3070,\n",
              " 3075,\n",
              " 3080,\n",
              " 3085,\n",
              " 3090,\n",
              " 3095,\n",
              " 3100,\n",
              " 3105,\n",
              " 3110,\n",
              " 3115,\n",
              " 3120,\n",
              " 3125,\n",
              " 3130,\n",
              " 3135,\n",
              " 3140,\n",
              " 3145,\n",
              " 3150,\n",
              " 3155,\n",
              " 3160,\n",
              " 3165,\n",
              " 3170,\n",
              " 3175,\n",
              " 3180,\n",
              " 3185,\n",
              " 3190,\n",
              " 3195,\n",
              " 3200,\n",
              " 3205,\n",
              " 3210,\n",
              " 3215,\n",
              " 3220,\n",
              " 3225,\n",
              " 3230,\n",
              " 3235,\n",
              " 3240,\n",
              " 3245,\n",
              " 3250,\n",
              " 3255,\n",
              " 3260,\n",
              " 3265,\n",
              " 3270,\n",
              " 3275,\n",
              " 3280,\n",
              " 3285,\n",
              " 3290,\n",
              " 3295,\n",
              " 3300,\n",
              " 3305,\n",
              " 3310,\n",
              " 3315,\n",
              " 3320,\n",
              " 3325,\n",
              " 3330,\n",
              " 3335,\n",
              " 3340,\n",
              " 3345,\n",
              " 3350,\n",
              " 3355,\n",
              " 3360,\n",
              " 3365,\n",
              " 3370,\n",
              " 3375,\n",
              " 3380,\n",
              " 3385,\n",
              " 3390,\n",
              " 3395,\n",
              " 3400,\n",
              " 3405,\n",
              " 3410,\n",
              " 3415,\n",
              " 3420,\n",
              " 3425,\n",
              " 3430,\n",
              " 3435,\n",
              " 3440,\n",
              " 3445,\n",
              " 3450,\n",
              " 3455,\n",
              " 3460,\n",
              " 3465,\n",
              " 3470,\n",
              " 3475,\n",
              " 3480,\n",
              " 3485,\n",
              " 3490,\n",
              " 3495,\n",
              " 3500,\n",
              " 3505,\n",
              " 3510,\n",
              " 3515,\n",
              " 3520,\n",
              " 3525,\n",
              " 3530,\n",
              " 3535,\n",
              " 3540,\n",
              " 3545,\n",
              " 3550,\n",
              " 3555,\n",
              " 3560,\n",
              " 3565,\n",
              " 3570,\n",
              " 3575,\n",
              " 3580,\n",
              " 3585,\n",
              " 3590,\n",
              " 3595,\n",
              " 3600,\n",
              " 3605,\n",
              " 3610,\n",
              " 3615,\n",
              " 3620,\n",
              " 3625,\n",
              " 3630,\n",
              " 3635,\n",
              " 3640,\n",
              " 3645,\n",
              " 3650,\n",
              " 3655,\n",
              " 3660,\n",
              " 3665,\n",
              " 3670,\n",
              " 3675,\n",
              " 3680,\n",
              " 3685,\n",
              " 3690,\n",
              " 3695,\n",
              " 3700,\n",
              " 3705,\n",
              " 3710,\n",
              " 3715,\n",
              " 3720,\n",
              " 3725,\n",
              " 3730,\n",
              " 3735,\n",
              " 3740,\n",
              " 3745,\n",
              " 3750,\n",
              " 3755,\n",
              " 3760,\n",
              " 3765,\n",
              " 3770,\n",
              " 3775,\n",
              " 3780,\n",
              " 3785,\n",
              " 3790,\n",
              " 3795,\n",
              " 3800,\n",
              " 3805,\n",
              " 3810,\n",
              " 3815,\n",
              " 3820,\n",
              " 3825,\n",
              " 3830,\n",
              " 3835,\n",
              " 3840,\n",
              " 3845,\n",
              " 3850,\n",
              " 3855,\n",
              " 3860,\n",
              " 3865,\n",
              " 3870,\n",
              " 3875,\n",
              " 3880,\n",
              " 3885,\n",
              " 3890,\n",
              " 3895,\n",
              " 3900,\n",
              " 3905,\n",
              " 3910,\n",
              " 3915,\n",
              " 3920,\n",
              " 3925,\n",
              " 3930,\n",
              " 3935,\n",
              " 3940,\n",
              " 3945,\n",
              " 3950,\n",
              " 3955,\n",
              " 3960,\n",
              " 3965,\n",
              " 3970,\n",
              " 3975,\n",
              " 3980,\n",
              " 3985,\n",
              " 3990,\n",
              " 3995,\n",
              " 4000,\n",
              " 4005,\n",
              " 4010,\n",
              " 4015,\n",
              " 4020,\n",
              " 4025,\n",
              " 4030,\n",
              " 4035,\n",
              " 4040,\n",
              " 4045,\n",
              " 4050,\n",
              " 4055,\n",
              " 4060,\n",
              " 4065,\n",
              " 4070,\n",
              " 4075,\n",
              " 4080,\n",
              " 4085,\n",
              " 4090,\n",
              " 4095,\n",
              " 4100,\n",
              " 4105,\n",
              " 4110,\n",
              " 4115,\n",
              " 4120,\n",
              " 4125,\n",
              " 4130,\n",
              " 4135,\n",
              " 4140,\n",
              " 4145,\n",
              " 4150,\n",
              " 4155,\n",
              " 4160,\n",
              " 4165,\n",
              " 4170,\n",
              " 4175,\n",
              " 4180,\n",
              " 4185,\n",
              " 4190,\n",
              " 4195,\n",
              " 4200,\n",
              " 4205,\n",
              " 4210,\n",
              " 4215,\n",
              " 4220,\n",
              " 4225,\n",
              " 4230,\n",
              " 4235,\n",
              " 4240,\n",
              " 4245,\n",
              " 4250,\n",
              " 4255,\n",
              " 4260,\n",
              " 4265,\n",
              " 4270,\n",
              " 4275,\n",
              " 4280,\n",
              " 4285,\n",
              " 4290,\n",
              " 4295,\n",
              " 4300,\n",
              " 4305,\n",
              " 4310,\n",
              " 4315,\n",
              " 4320,\n",
              " 4325,\n",
              " 4330,\n",
              " 4335,\n",
              " 4340,\n",
              " 4345,\n",
              " 4350,\n",
              " 4355,\n",
              " 4360,\n",
              " 4365,\n",
              " 4370,\n",
              " 4375,\n",
              " 4380,\n",
              " 4385,\n",
              " 4390,\n",
              " 4395,\n",
              " 4400,\n",
              " 4405,\n",
              " 4410,\n",
              " 4415,\n",
              " 4420,\n",
              " 4425,\n",
              " 4430,\n",
              " 4435,\n",
              " 4440,\n",
              " 4445,\n",
              " 4450,\n",
              " 4455,\n",
              " 4460,\n",
              " 4465,\n",
              " 4470,\n",
              " 4475,\n",
              " 4480,\n",
              " 4485,\n",
              " 4490,\n",
              " 4495,\n",
              " 4500,\n",
              " 4505,\n",
              " 4510,\n",
              " 4515,\n",
              " 4520,\n",
              " 4525,\n",
              " 4530,\n",
              " 4535,\n",
              " 4540,\n",
              " 4545,\n",
              " 4550,\n",
              " 4555,\n",
              " 4560,\n",
              " 4565,\n",
              " 4570,\n",
              " 4575,\n",
              " 4580,\n",
              " 4585,\n",
              " 4590,\n",
              " 4595,\n",
              " 4600,\n",
              " 4605,\n",
              " 4610,\n",
              " 4615,\n",
              " 4620,\n",
              " 4625,\n",
              " 4630,\n",
              " 4635,\n",
              " 4640,\n",
              " 4645,\n",
              " 4650,\n",
              " 4655,\n",
              " 4660,\n",
              " 4665,\n",
              " 4670,\n",
              " 4675,\n",
              " 4680,\n",
              " 4685,\n",
              " 4690,\n",
              " 4695,\n",
              " 4700,\n",
              " 4705,\n",
              " 4710,\n",
              " 4715,\n",
              " 4720,\n",
              " 4725,\n",
              " 4730,\n",
              " 4735,\n",
              " 4740,\n",
              " 4745,\n",
              " 4750,\n",
              " 4755,\n",
              " 4760,\n",
              " 4765,\n",
              " 4770,\n",
              " 4775,\n",
              " 4780,\n",
              " 4785,\n",
              " 4790,\n",
              " 4795,\n",
              " 4800,\n",
              " 4805,\n",
              " 4810,\n",
              " 4815,\n",
              " 4820,\n",
              " 4825,\n",
              " 4830,\n",
              " 4835,\n",
              " 4840,\n",
              " 4845,\n",
              " 4850,\n",
              " 4855,\n",
              " 4860,\n",
              " 4865,\n",
              " 4870,\n",
              " 4875,\n",
              " 4880,\n",
              " 4885,\n",
              " 4890,\n",
              " 4895,\n",
              " 4900,\n",
              " 4905,\n",
              " 4910,\n",
              " 4915,\n",
              " 4920,\n",
              " 4925,\n",
              " 4930,\n",
              " 4935,\n",
              " 4940,\n",
              " 4945,\n",
              " 4950,\n",
              " 4955,\n",
              " 4960,\n",
              " 4965,\n",
              " 4970,\n",
              " 4975,\n",
              " 4980,\n",
              " 4985,\n",
              " 4990,\n",
              " 4995,\n",
              " ...]"
            ]
          },
          "metadata": {},
          "execution_count": 38
        }
      ]
    },
    {
      "cell_type": "code",
      "source": [
        "five_times_table_lge = np.arange(0,5001,5)\n",
        "five_times_table_lge"
      ],
      "metadata": {
        "colab": {
          "base_uri": "https://localhost:8080/"
        },
        "id": "DbQafG87cDtF",
        "outputId": "a2594d52-0f05-4481-ff4c-1bb5159f84a8"
      },
      "execution_count": null,
      "outputs": [
        {
          "output_type": "execute_result",
          "data": {
            "text/plain": [
              "array([   0,    5,   10, ..., 4990, 4995, 5000])"
            ]
          },
          "metadata": {},
          "execution_count": 39
        }
      ]
    },
    {
      "cell_type": "code",
      "source": [
        "%timeit five_times_table_lge + 5 #it is used to measure the execution time of the table"
      ],
      "metadata": {
        "colab": {
          "base_uri": "https://localhost:8080/"
        },
        "id": "fJinhogwcKmV",
        "outputId": "0f00d74e-0e93-4648-df01-6e1ded5c72a8"
      },
      "execution_count": null,
      "outputs": [
        {
          "output_type": "stream",
          "name": "stdout",
          "text": [
            "1.32 µs ± 22 ns per loop (mean ± std. dev. of 7 runs, 1000000 loops each)\n"
          ]
        }
      ]
    },
    {
      "cell_type": "code",
      "source": [
        "%timeit [e + 5 for e in fives_list]"
      ],
      "metadata": {
        "colab": {
          "base_uri": "https://localhost:8080/"
        },
        "id": "vDexFzhNcN14",
        "outputId": "d60a6232-9ac7-436d-c51b-a9ceb9c4f380"
      },
      "execution_count": null,
      "outputs": [
        {
          "output_type": "stream",
          "name": "stdout",
          "text": [
            "60.7 µs ± 1.95 µs per loop (mean ± std. dev. of 7 runs, 10000 loops each)\n"
          ]
        }
      ]
    },
    {
      "cell_type": "markdown",
      "source": [
        "Boolean string operations can also be performed on ndarrays."
      ],
      "metadata": {
        "id": "oRXe0KlAchyN"
      }
    },
    {
      "cell_type": "code",
      "source": [
        "words = np.array([\"ten\", \"nine\", \"eight\", \"seven\", \"six\"])\n",
        "\n",
        "print(np.isin(words, 'e'))\n",
        "\n",
        "print(\"e\" in words)\n",
        "[\"e\" in word for word in words]"
      ],
      "metadata": {
        "colab": {
          "base_uri": "https://localhost:8080/"
        },
        "id": "j1e4vqwRcggX",
        "outputId": "5686f560-254f-4ae9-9a23-36a2f545ff43"
      },
      "execution_count": null,
      "outputs": [
        {
          "output_type": "stream",
          "name": "stdout",
          "text": [
            "[False False False False False]\n",
            "False\n"
          ]
        },
        {
          "output_type": "execute_result",
          "data": {
            "text/plain": [
              "[True, True, True, True, False]"
            ]
          },
          "metadata": {},
          "execution_count": 47
        }
      ]
    },
    {
      "cell_type": "markdown",
      "source": [
        "# Transpose"
      ],
      "metadata": {
        "id": "EU0_lq5ac2FB"
      }
    },
    {
      "cell_type": "code",
      "source": [
        "people.shape = (2, 6)\n",
        "print(people, \"\\n\")\n",
        "print(people.T)"
      ],
      "metadata": {
        "colab": {
          "base_uri": "https://localhost:8080/"
        },
        "id": "A4RAvj3bct7a",
        "outputId": "75d5dec8-2143-4705-bd97-f7cbbdac5fea"
      },
      "execution_count": null,
      "outputs": [
        {
          "output_type": "stream",
          "name": "stdout",
          "text": [
            "[[10  5  8 32 65 43]\n",
            " [32 18 26 60 55 65]] \n",
            "\n",
            "[[10 32]\n",
            " [ 5 18]\n",
            " [ 8 26]\n",
            " [32 60]\n",
            " [65 55]\n",
            " [43 65]]\n"
          ]
        }
      ]
    },
    {
      "cell_type": "markdown",
      "source": [
        "# Data Types"
      ],
      "metadata": {
        "id": "dJ7MZdT3c8OF"
      }
    },
    {
      "cell_type": "code",
      "source": [
        "people.dtype"
      ],
      "metadata": {
        "colab": {
          "base_uri": "https://localhost:8080/"
        },
        "id": "bjRi5CWjc5Lp",
        "outputId": "ca279c49-5754-4075-d9e9-440175b44ae3"
      },
      "execution_count": null,
      "outputs": [
        {
          "output_type": "execute_result",
          "data": {
            "text/plain": [
              "dtype('int64')"
            ]
          },
          "metadata": {},
          "execution_count": 49
        }
      ]
    },
    {
      "cell_type": "markdown",
      "source": [
        "What is the data type of the below ndarray?"
      ],
      "metadata": {
        "id": "gHLpEF3JdApy"
      }
    },
    {
      "cell_type": "code",
      "source": [
        "ages_with_strings = np.array([10, 5, 8, '32', '65', '43'])\n",
        "ages_with_strings"
      ],
      "metadata": {
        "colab": {
          "base_uri": "https://localhost:8080/"
        },
        "id": "s1vzkyC6c_NJ",
        "outputId": "8bc436c9-1d39-4efa-b781-57a8de948a78"
      },
      "execution_count": null,
      "outputs": [
        {
          "output_type": "execute_result",
          "data": {
            "text/plain": [
              "array(['10', '5', '8', '32', '65', '43'], dtype='<U21')"
            ]
          },
          "metadata": {},
          "execution_count": 50
        }
      ]
    },
    {
      "cell_type": "code",
      "source": [
        "ages_with_strings.dtype"
      ],
      "metadata": {
        "colab": {
          "base_uri": "https://localhost:8080/"
        },
        "id": "lNVaRwYhdDy8",
        "outputId": "481362ec-9479-47d1-ff18-eb7f064e1e61"
      },
      "execution_count": null,
      "outputs": [
        {
          "output_type": "execute_result",
          "data": {
            "text/plain": [
              "dtype('<U21')"
            ]
          },
          "metadata": {},
          "execution_count": 52
        }
      ]
    },
    {
      "cell_type": "markdown",
      "source": [
        "What is the dtype of this array?"
      ],
      "metadata": {
        "id": "s5aALu6odWt9"
      }
    },
    {
      "cell_type": "code",
      "source": [
        "ages_with_strings = np.array([10, 5, 8, '32', '65', '43'], dtype='int32')\n",
        "ages_with_strings\n"
      ],
      "metadata": {
        "colab": {
          "base_uri": "https://localhost:8080/"
        },
        "id": "8XI9QzShdI5O",
        "outputId": "65890c3a-64e5-4ef6-d2fb-415c5ee69429"
      },
      "execution_count": null,
      "outputs": [
        {
          "output_type": "execute_result",
          "data": {
            "text/plain": [
              "array([10,  5,  8, 32, 65, 43], dtype=int32)"
            ]
          },
          "metadata": {},
          "execution_count": 53
        }
      ]
    },
    {
      "cell_type": "code",
      "source": [
        "ages_with_strings.dtype # gives the datatype of the above array"
      ],
      "metadata": {
        "colab": {
          "base_uri": "https://localhost:8080/"
        },
        "id": "4x4_NQr3dZ-v",
        "outputId": "bb444e5a-ee45-468a-e34e-e0c4729d41b6"
      },
      "execution_count": null,
      "outputs": [
        {
          "output_type": "execute_result",
          "data": {
            "text/plain": [
              "dtype('int32')"
            ]
          },
          "metadata": {},
          "execution_count": 54
        }
      ]
    },
    {
      "cell_type": "markdown",
      "source": [
        "What do you think has happened here?"
      ],
      "metadata": {
        "id": "FkTP-BDidhKZ"
      }
    },
    {
      "cell_type": "code",
      "source": [
        "ages_with_strings = np.array([10, 5, 8, '32', '65', '43'])\n",
        "print(ages_with_strings)\n",
        "\n"
      ],
      "metadata": {
        "colab": {
          "base_uri": "https://localhost:8080/"
        },
        "id": "JWETH3VDddqu",
        "outputId": "330eebb4-9f35-4563-a729-14b5ca630647"
      },
      "execution_count": null,
      "outputs": [
        {
          "output_type": "stream",
          "name": "stdout",
          "text": [
            "['10' '5' '8' '32' '65' '43']\n"
          ]
        }
      ]
    },
    {
      "cell_type": "code",
      "source": [
        "ages_with_strings.dtype = 'int32'\n",
        "print(ages_with_strings)"
      ],
      "metadata": {
        "colab": {
          "base_uri": "https://localhost:8080/"
        },
        "id": "hzs0wDPodsqg",
        "outputId": "d2428e9f-8fe9-49c7-a281-bb30728dc19d"
      },
      "execution_count": null,
      "outputs": [
        {
          "output_type": "stream",
          "name": "stdout",
          "text": [
            "[49 48  0  0  0  0  0  0  0  0  0  0  0  0  0  0  0  0  0  0  0 53  0  0\n",
            "  0  0  0  0  0  0  0  0  0  0  0  0  0  0  0  0  0  0 56  0  0  0  0  0\n",
            "  0  0  0  0  0  0  0  0  0  0  0  0  0  0  0 51 50  0  0  0  0  0  0  0\n",
            "  0  0  0  0  0  0  0  0  0  0  0  0 54 53  0  0  0  0  0  0  0  0  0  0\n",
            "  0  0  0  0  0  0  0  0  0 52 51  0  0  0  0  0  0  0  0  0  0  0  0  0\n",
            "  0  0  0  0  0  0]\n"
          ]
        }
      ]
    },
    {
      "cell_type": "code",
      "source": [
        "ages_with_strings.size"
      ],
      "metadata": {
        "colab": {
          "base_uri": "https://localhost:8080/"
        },
        "id": "ZyFuUCXZdxJb",
        "outputId": "7e160125-df8f-4078-90e7-617423407add"
      },
      "execution_count": null,
      "outputs": [
        {
          "output_type": "execute_result",
          "data": {
            "text/plain": [
              "126"
            ]
          },
          "metadata": {},
          "execution_count": 58
        }
      ]
    },
    {
      "cell_type": "code",
      "source": [
        "np.array([10, 5, 8, '32', '65', '43']).size"
      ],
      "metadata": {
        "colab": {
          "base_uri": "https://localhost:8080/"
        },
        "id": "1XJX0UzFeU4V",
        "outputId": "48ec42f7-7b3a-4c89-e8d2-3db23747d2b1"
      },
      "execution_count": null,
      "outputs": [
        {
          "output_type": "execute_result",
          "data": {
            "text/plain": [
              "6"
            ]
          },
          "metadata": {},
          "execution_count": 59
        }
      ]
    },
    {
      "cell_type": "markdown",
      "source": [
        "The correct way to have changed the data type of the ndarray would have been to use the .astype() method, demonstrated below."
      ],
      "metadata": {
        "id": "LzqhyUvXeijp"
      }
    },
    {
      "cell_type": "code",
      "source": [
        "ages_with_strings = np.array([10, 5, 8, '32', '65', '43'])\n",
        "print(ages_with_strings)\n",
        "print(ages_with_strings.astype('int32'))"
      ],
      "metadata": {
        "colab": {
          "base_uri": "https://localhost:8080/"
        },
        "id": "QVpI_U4PebYx",
        "outputId": "78e32639-44e8-4af5-8182-c266bc024303"
      },
      "execution_count": null,
      "outputs": [
        {
          "output_type": "stream",
          "name": "stdout",
          "text": [
            "['10' '5' '8' '32' '65' '43']\n",
            "[10  5  8 32 65 43]\n"
          ]
        }
      ]
    },
    {
      "cell_type": "markdown",
      "source": [
        "Exercise:"
      ],
      "metadata": {
        "id": "sCGBVa8zen8H"
      }
    },
    {
      "cell_type": "code",
      "source": [
        "arr2=np.array([[1,2,3],[23,4,6]])"
      ],
      "metadata": {
        "id": "8H3uxgfUelOu"
      },
      "execution_count": null,
      "outputs": []
    },
    {
      "cell_type": "code",
      "source": [
        "arr2.dtype"
      ],
      "metadata": {
        "colab": {
          "base_uri": "https://localhost:8080/"
        },
        "id": "YPD16Y_Seu64",
        "outputId": "22804226-8954-4ced-94d5-ea88aac0de4b"
      },
      "execution_count": null,
      "outputs": [
        {
          "output_type": "execute_result",
          "data": {
            "text/plain": [
              "dtype('int64')"
            ]
          },
          "metadata": {},
          "execution_count": 62
        }
      ]
    },
    {
      "cell_type": "code",
      "source": [
        "new_a=arr2.astype('float64') # it will the change the datatype from int to float."
      ],
      "metadata": {
        "id": "SPLI9robew81"
      },
      "execution_count": null,
      "outputs": []
    },
    {
      "cell_type": "code",
      "source": [
        "new_a.dtype"
      ],
      "metadata": {
        "colab": {
          "base_uri": "https://localhost:8080/"
        },
        "id": "f1jkfPFue1Dx",
        "outputId": "8dba3754-bba2-4459-cd6f-42c8bc621310"
      },
      "execution_count": null,
      "outputs": [
        {
          "output_type": "execute_result",
          "data": {
            "text/plain": [
              "dtype('float64')"
            ]
          },
          "metadata": {},
          "execution_count": 67
        }
      ]
    },
    {
      "cell_type": "code",
      "source": [
        "# transpose the above matrix\n",
        "transpose=arr2.transpose()"
      ],
      "metadata": {
        "id": "3JUkXypme_4l"
      },
      "execution_count": null,
      "outputs": []
    },
    {
      "cell_type": "code",
      "source": [
        "transpose"
      ],
      "metadata": {
        "colab": {
          "base_uri": "https://localhost:8080/"
        },
        "id": "ON1XH1ihfKcJ",
        "outputId": "2f422d73-c837-4944-8a95-7de341f11bd4"
      },
      "execution_count": null,
      "outputs": [
        {
          "output_type": "execute_result",
          "data": {
            "text/plain": [
              "array([[ 1, 23],\n",
              "       [ 2,  4],\n",
              "       [ 3,  6]])"
            ]
          },
          "metadata": {},
          "execution_count": 72
        }
      ]
    },
    {
      "cell_type": "code",
      "source": [
        "transpose.shape # shape of the matrix after transpose"
      ],
      "metadata": {
        "colab": {
          "base_uri": "https://localhost:8080/"
        },
        "id": "IZGzS7_-fMD4",
        "outputId": "0c6378ee-fc07-4123-c77b-0d17977e0ae2"
      },
      "execution_count": null,
      "outputs": [
        {
          "output_type": "execute_result",
          "data": {
            "text/plain": [
              "(3, 2)"
            ]
          },
          "metadata": {},
          "execution_count": 73
        }
      ]
    },
    {
      "cell_type": "code",
      "source": [
        "transpose.size # size of the transposed matrix."
      ],
      "metadata": {
        "colab": {
          "base_uri": "https://localhost:8080/"
        },
        "id": "79RrYQdcfVx_",
        "outputId": "b4d02123-a6ca-4349-c0bb-d8f055c6bb5f"
      },
      "execution_count": null,
      "outputs": [
        {
          "output_type": "execute_result",
          "data": {
            "text/plain": [
              "6"
            ]
          },
          "metadata": {},
          "execution_count": 75
        }
      ]
    },
    {
      "cell_type": "code",
      "source": [
        "Bool=np.array(arr2,dtype=bool) # chaning the datatype to boolean"
      ],
      "metadata": {
        "id": "ZQO1mX0wfYN8"
      },
      "execution_count": null,
      "outputs": []
    },
    {
      "cell_type": "code",
      "source": [
        "Bool"
      ],
      "metadata": {
        "colab": {
          "base_uri": "https://localhost:8080/"
        },
        "id": "UQqTDaHlfil1",
        "outputId": "ee25d9bc-16a5-4b9e-8ac8-16a4e2a836bf"
      },
      "execution_count": null,
      "outputs": [
        {
          "output_type": "execute_result",
          "data": {
            "text/plain": [
              "array([[ True,  True,  True],\n",
              "       [ True,  True,  True]])"
            ]
          },
          "metadata": {},
          "execution_count": 80
        }
      ]
    },
    {
      "cell_type": "markdown",
      "source": [
        "#Array Slicing Operations\n",
        "As before, we can use square brackets and indices to access individual values, and the colon operator to slice the array."
      ],
      "metadata": {
        "id": "KWWRRWFMf8WE"
      }
    },
    {
      "cell_type": "code",
      "source": [
        "five_times_table"
      ],
      "metadata": {
        "colab": {
          "base_uri": "https://localhost:8080/"
        },
        "id": "6U5TObzGf2uk",
        "outputId": "436df9d9-ebd4-4853-c956-e667c43e3cde"
      },
      "execution_count": null,
      "outputs": [
        {
          "output_type": "execute_result",
          "data": {
            "text/plain": [
              "array([ 0,  5, 10, 15, 20, 25, 30, 35, 40, 45, 50])"
            ]
          },
          "metadata": {},
          "execution_count": 81
        }
      ]
    },
    {
      "cell_type": "code",
      "source": [
        "five_times_table[0]"
      ],
      "metadata": {
        "colab": {
          "base_uri": "https://localhost:8080/"
        },
        "id": "RwBNtzXPgAiA",
        "outputId": "e4797eeb-45fb-4221-812f-d6ad28543354"
      },
      "execution_count": null,
      "outputs": [
        {
          "output_type": "execute_result",
          "data": {
            "text/plain": [
              "0"
            ]
          },
          "metadata": {},
          "execution_count": 82
        }
      ]
    },
    {
      "cell_type": "code",
      "source": [
        "five_times_table[-1]"
      ],
      "metadata": {
        "colab": {
          "base_uri": "https://localhost:8080/"
        },
        "id": "l2Ai0eo1gBfh",
        "outputId": "cc3db4bf-eb70-4a2b-a710-fe190e45cd23"
      },
      "execution_count": null,
      "outputs": [
        {
          "output_type": "execute_result",
          "data": {
            "text/plain": [
              "50"
            ]
          },
          "metadata": {},
          "execution_count": 83
        }
      ]
    },
    {
      "cell_type": "code",
      "source": [
        "five_times_table[:4]"
      ],
      "metadata": {
        "colab": {
          "base_uri": "https://localhost:8080/"
        },
        "id": "r_Ur3lu6gCgl",
        "outputId": "6ed6469a-e67f-483e-d619-fb8a57c97b95"
      },
      "execution_count": null,
      "outputs": [
        {
          "output_type": "execute_result",
          "data": {
            "text/plain": [
              "array([ 0,  5, 10, 15])"
            ]
          },
          "metadata": {},
          "execution_count": 84
        }
      ]
    },
    {
      "cell_type": "code",
      "source": [
        "five_times_table[4:]"
      ],
      "metadata": {
        "colab": {
          "base_uri": "https://localhost:8080/"
        },
        "id": "SJsddU0tgEs0",
        "outputId": "e3295f14-ebff-456c-8238-8e20fad98205"
      },
      "execution_count": null,
      "outputs": [
        {
          "output_type": "execute_result",
          "data": {
            "text/plain": [
              "array([20, 25, 30, 35, 40, 45, 50])"
            ]
          },
          "metadata": {},
          "execution_count": 85
        }
      ]
    },
    {
      "cell_type": "markdown",
      "source": [
        "We can also slice an n-dim ndarray., specifying the slice operation accross each axis."
      ],
      "metadata": {
        "id": "3PylfilbgH_V"
      }
    },
    {
      "cell_type": "code",
      "source": [
        "print(people)\n",
        "people[:3, :3]"
      ],
      "metadata": {
        "colab": {
          "base_uri": "https://localhost:8080/"
        },
        "id": "TqnvIDEygGEs",
        "outputId": "9079d568-4b58-4a80-a858-192c88904856"
      },
      "execution_count": null,
      "outputs": [
        {
          "output_type": "stream",
          "name": "stdout",
          "text": [
            "[[10  5  8 32 65 43]\n",
            " [32 18 26 60 55 65]]\n"
          ]
        },
        {
          "output_type": "execute_result",
          "data": {
            "text/plain": [
              "array([[10,  5,  8],\n",
              "       [32, 18, 26]])"
            ]
          },
          "metadata": {},
          "execution_count": 86
        }
      ]
    },
    {
      "cell_type": "markdown",
      "source": [
        "#Exercise\n",
        "* Create a numpy array with 50 zeros\n",
        "* Create a np array of 2 repeated 20 times\n",
        "* Create a numpy array from 0 to 2  in steps of 0.1\n",
        "\n",
        "For one of the arrays generated:\n",
        "\n",
        "* Get the first five values\n",
        "* Get the last 3 values\n",
        "* Get the 4th value to the 7th value"
      ],
      "metadata": {
        "id": "z5_D_WKCgOyN"
      }
    },
    {
      "cell_type": "code",
      "source": [
        "zer=np.zeros(50)"
      ],
      "metadata": {
        "id": "5vQAt2YqgKe5"
      },
      "execution_count": null,
      "outputs": []
    },
    {
      "cell_type": "code",
      "source": [
        "zer"
      ],
      "metadata": {
        "colab": {
          "base_uri": "https://localhost:8080/"
        },
        "id": "BnNPvBlXgVwu",
        "outputId": "817efcd4-54bc-46f2-f79b-bb3933f26969"
      },
      "execution_count": null,
      "outputs": [
        {
          "output_type": "execute_result",
          "data": {
            "text/plain": [
              "array([0., 0., 0., 0., 0., 0., 0., 0., 0., 0., 0., 0., 0., 0., 0., 0., 0.,\n",
              "       0., 0., 0., 0., 0., 0., 0., 0., 0., 0., 0., 0., 0., 0., 0., 0., 0.,\n",
              "       0., 0., 0., 0., 0., 0., 0., 0., 0., 0., 0., 0., 0., 0., 0., 0.])"
            ]
          },
          "metadata": {},
          "execution_count": 88
        }
      ]
    },
    {
      "cell_type": "code",
      "source": [
        "repeat=np.repeat(2,20)"
      ],
      "metadata": {
        "id": "TEM5aFxegWdJ"
      },
      "execution_count": null,
      "outputs": []
    },
    {
      "cell_type": "code",
      "source": [
        "repeat"
      ],
      "metadata": {
        "colab": {
          "base_uri": "https://localhost:8080/"
        },
        "id": "_-lEBdIhgiOg",
        "outputId": "8f18d54d-8b95-4dc1-c4ad-fcc720a616a5"
      },
      "execution_count": null,
      "outputs": [
        {
          "output_type": "execute_result",
          "data": {
            "text/plain": [
              "array([2, 2, 2, 2, 2, 2, 2, 2, 2, 2, 2, 2, 2, 2, 2, 2, 2, 2, 2, 2])"
            ]
          },
          "metadata": {},
          "execution_count": 92
        }
      ]
    },
    {
      "cell_type": "code",
      "source": [
        "import math \n",
        "arr3=np.arange(0, math.pi, 0.1)"
      ],
      "metadata": {
        "id": "grwi3gyBgjHh"
      },
      "execution_count": null,
      "outputs": []
    },
    {
      "cell_type": "code",
      "source": [
        "arr3"
      ],
      "metadata": {
        "colab": {
          "base_uri": "https://localhost:8080/"
        },
        "id": "qfwvuQ-fhBCx",
        "outputId": "8e601e7e-d455-48da-8377-57c959bf5b91"
      },
      "execution_count": null,
      "outputs": [
        {
          "output_type": "execute_result",
          "data": {
            "text/plain": [
              "array([0. , 0.1, 0.2, 0.3, 0.4, 0.5, 0.6, 0.7, 0.8, 0.9, 1. , 1.1, 1.2,\n",
              "       1.3, 1.4, 1.5, 1.6, 1.7, 1.8, 1.9, 2. , 2.1, 2.2, 2.3, 2.4, 2.5,\n",
              "       2.6, 2.7, 2.8, 2.9, 3. , 3.1])"
            ]
          },
          "metadata": {},
          "execution_count": 97
        }
      ]
    },
    {
      "cell_type": "markdown",
      "source": [
        "We can reverse an array by using .flip() or by using the :: operator.\n",
        "\n"
      ],
      "metadata": {
        "id": "97hHHjsshYQo"
      }
    },
    {
      "cell_type": "code",
      "source": [
        "reverse_five_times_table = np.flip(five_times_table)\n",
        "reverse_five_times_table"
      ],
      "metadata": {
        "colab": {
          "base_uri": "https://localhost:8080/"
        },
        "id": "zWVcGCNZhQMr",
        "outputId": "68373fda-2aa4-45fc-b2fe-a5d07efe93d3"
      },
      "execution_count": null,
      "outputs": [
        {
          "output_type": "execute_result",
          "data": {
            "text/plain": [
              "array([50, 45, 40, 35, 30, 25, 20, 15, 10,  5,  0])"
            ]
          },
          "metadata": {},
          "execution_count": 100
        }
      ]
    },
    {
      "cell_type": "code",
      "source": [
        "reverse_five_times_table = five_times_table[-1::-1]\n",
        "print(reverse_five_times_table)\n",
        "five_times_table\n"
      ],
      "metadata": {
        "colab": {
          "base_uri": "https://localhost:8080/"
        },
        "id": "xjgss65HhaiU",
        "outputId": "277835ad-df4b-4177-f9e7-0ea11a74fa60"
      },
      "execution_count": null,
      "outputs": [
        {
          "output_type": "stream",
          "name": "stdout",
          "text": [
            "[50 45 40 35 30 25 20 15 10  5  0]\n"
          ]
        },
        {
          "output_type": "execute_result",
          "data": {
            "text/plain": [
              "array([ 0,  5, 10, 15, 20, 25, 30, 35, 40, 45, 50])"
            ]
          },
          "metadata": {},
          "execution_count": 101
        }
      ]
    },
    {
      "cell_type": "code",
      "source": [
        "five_times_table[0::3]"
      ],
      "metadata": {
        "colab": {
          "base_uri": "https://localhost:8080/"
        },
        "id": "KFIQ3sZjhi3N",
        "outputId": "51de80d3-2d0e-40e8-ecd7-8be944836379"
      },
      "execution_count": null,
      "outputs": [
        {
          "output_type": "execute_result",
          "data": {
            "text/plain": [
              "array([ 0, 15, 30, 45])"
            ]
          },
          "metadata": {},
          "execution_count": 102
        }
      ]
    },
    {
      "cell_type": "markdown",
      "source": [
        "# Exercise\n",
        "Take one of the arrays you defined and\n",
        "\n",
        "#### Reverse it\n",
        "#### Only keep every 4th element.\n",
        "#### Get every 2nd element, starting from the last and moving backwards."
      ],
      "metadata": {
        "id": "PlAAA-d0huL2"
      }
    },
    {
      "cell_type": "code",
      "source": [
        "array4=np.array([1,2,3,4,5,6,7])"
      ],
      "metadata": {
        "id": "bqLIDlnAhq-6"
      },
      "execution_count": null,
      "outputs": []
    },
    {
      "cell_type": "code",
      "source": [
        "flip=np.flip(array4)"
      ],
      "metadata": {
        "id": "5TK6nHD9h4o_"
      },
      "execution_count": null,
      "outputs": []
    },
    {
      "cell_type": "code",
      "source": [
        "flip"
      ],
      "metadata": {
        "colab": {
          "base_uri": "https://localhost:8080/"
        },
        "id": "3uhExeIah8aX",
        "outputId": "927048d4-e83b-43fd-9c50-ff586f97400b"
      },
      "execution_count": null,
      "outputs": [
        {
          "output_type": "execute_result",
          "data": {
            "text/plain": [
              "array([7, 6, 5, 4, 3, 2, 1])"
            ]
          },
          "metadata": {},
          "execution_count": 106
        }
      ]
    },
    {
      "cell_type": "code",
      "source": [
        "keep=array4[0::4] # will keep every 4 element "
      ],
      "metadata": {
        "id": "0lEOT_amiB-o"
      },
      "execution_count": null,
      "outputs": []
    },
    {
      "cell_type": "code",
      "source": [
        "keep"
      ],
      "metadata": {
        "colab": {
          "base_uri": "https://localhost:8080/"
        },
        "id": "eMSx4Yt1iIDv",
        "outputId": "bbe6f05a-ee01-4c77-d67c-6f17aa831382"
      },
      "execution_count": null,
      "outputs": [
        {
          "output_type": "execute_result",
          "data": {
            "text/plain": [
              "array([1, 5])"
            ]
          },
          "metadata": {},
          "execution_count": 109
        }
      ]
    },
    {
      "cell_type": "code",
      "source": [
        "reverse=array4[-1::-2] # gives every second element from last"
      ],
      "metadata": {
        "id": "4lD74Qf8iLw7"
      },
      "execution_count": null,
      "outputs": []
    },
    {
      "cell_type": "code",
      "source": [
        "reverse"
      ],
      "metadata": {
        "colab": {
          "base_uri": "https://localhost:8080/"
        },
        "id": "UgADbWEeia2b",
        "outputId": "de8c0107-00cc-46b4-b01c-705341e459d7"
      },
      "execution_count": null,
      "outputs": [
        {
          "output_type": "execute_result",
          "data": {
            "text/plain": [
              "array([7, 5, 3, 1])"
            ]
          },
          "metadata": {},
          "execution_count": 113
        }
      ]
    },
    {
      "cell_type": "markdown",
      "source": [
        "# Stats"
      ],
      "metadata": {
        "id": "A9ExftSJin22"
      }
    },
    {
      "cell_type": "code",
      "source": [
        "np.array([1.65432, 5.98765]).round(2)"
      ],
      "metadata": {
        "colab": {
          "base_uri": "https://localhost:8080/"
        },
        "id": "8iin6ppqicHs",
        "outputId": "65e9951e-7236-449c-fc78-8f618077131b"
      },
      "execution_count": null,
      "outputs": [
        {
          "output_type": "execute_result",
          "data": {
            "text/plain": [
              "array([1.65, 5.99])"
            ]
          },
          "metadata": {},
          "execution_count": 114
        }
      ]
    },
    {
      "cell_type": "code",
      "source": [
        "nums = np.arange(0, 4, 0.2555)"
      ],
      "metadata": {
        "id": "EiGwdvmIiqcX"
      },
      "execution_count": null,
      "outputs": []
    },
    {
      "cell_type": "code",
      "source": [
        "nums"
      ],
      "metadata": {
        "colab": {
          "base_uri": "https://localhost:8080/"
        },
        "id": "a6hpdk97issr",
        "outputId": "582cdf08-3656-4f65-d4df-dfb8f2031984"
      },
      "execution_count": null,
      "outputs": [
        {
          "output_type": "execute_result",
          "data": {
            "text/plain": [
              "array([0.    , 0.2555, 0.511 , 0.7665, 1.022 , 1.2775, 1.533 , 1.7885,\n",
              "       2.044 , 2.2995, 2.555 , 2.8105, 3.066 , 3.3215, 3.577 , 3.8325])"
            ]
          },
          "metadata": {},
          "execution_count": 117
        }
      ]
    },
    {
      "cell_type": "markdown",
      "source": [
        "# Exercise\n",
        "Compute min, max, sum, mean, median, variance, and standard deviation of the above array, all to to 2 decimal places.\n"
      ],
      "metadata": {
        "id": "E2YzsL-9iy26"
      }
    },
    {
      "cell_type": "code",
      "source": [
        "\n"
      ],
      "metadata": {
        "id": "_YtMPR6Fitje"
      },
      "execution_count": null,
      "outputs": []
    },
    {
      "cell_type": "code",
      "source": [
        "print(\"min = \", np.min(nums).round(2))\n",
        "print(\"max = \", np.max(nums).round(2))\n",
        "print(\"sum = \", np.sum(nums).round(2))\n",
        "print(\"mean = \", np.mean(nums).round(2))\n",
        "print(\"median = \", np.median(nums).round(2))\n",
        "print(\"var = \", np.var(nums).round(2))\n",
        "print(\"std = \", np.std(nums).round(2))"
      ],
      "metadata": {
        "colab": {
          "base_uri": "https://localhost:8080/"
        },
        "id": "wAaPC3wyi4YZ",
        "outputId": "7a89b048-6c59-466a-a6e6-cc912777c5e9"
      },
      "execution_count": null,
      "outputs": [
        {
          "output_type": "stream",
          "name": "stdout",
          "text": [
            "min =  0.0\n",
            "max =  3.83\n",
            "sum =  30.66\n",
            "mean =  1.92\n",
            "median =  1.92\n",
            "var =  1.39\n",
            "std =  1.18\n"
          ]
        }
      ]
    },
    {
      "cell_type": "markdown",
      "source": [
        "# Random\n",
        "With np.random, we can generate a number of types of dataset, and create training data.\n",
        "\n",
        "The below code simulates a fair coin toss."
      ],
      "metadata": {
        "id": "4LCKcvbvi-eb"
      }
    },
    {
      "cell_type": "code",
      "source": [
        "flip3=np.random.choice([0,1],10)"
      ],
      "metadata": {
        "id": "mwXq_Uq_i8bd"
      },
      "execution_count": null,
      "outputs": []
    },
    {
      "cell_type": "code",
      "source": [
        "flip3"
      ],
      "metadata": {
        "colab": {
          "base_uri": "https://localhost:8080/"
        },
        "id": "ljsPBok9jIHp",
        "outputId": "68e51112-9567-4981-d698-ed2dd8652bf4"
      },
      "execution_count": null,
      "outputs": [
        {
          "output_type": "execute_result",
          "data": {
            "text/plain": [
              "array([1, 1, 0, 1, 1, 0, 1, 1, 0, 0])"
            ]
          },
          "metadata": {},
          "execution_count": 121
        }
      ]
    },
    {
      "cell_type": "code",
      "source": [
        "a=np.random.rand(10,20,9)"
      ],
      "metadata": {
        "id": "84akLkdYjJGX"
      },
      "execution_count": null,
      "outputs": []
    },
    {
      "cell_type": "code",
      "source": [
        "a"
      ],
      "metadata": {
        "colab": {
          "base_uri": "https://localhost:8080/"
        },
        "id": "OrOTzQHUjPQ4",
        "outputId": "4fb4a1e1-8547-46ad-fd53-bb958c5b1165"
      },
      "execution_count": null,
      "outputs": [
        {
          "output_type": "execute_result",
          "data": {
            "text/plain": [
              "array([[[0.48751544, 0.92391623, 0.78416054, ..., 0.97487421,\n",
              "         0.29190276, 0.72184117],\n",
              "        [0.19781431, 0.37906802, 0.57067107, ..., 0.56917903,\n",
              "         0.2797608 , 0.21024335],\n",
              "        [0.3633606 , 0.51077214, 0.99499522, ..., 0.16915439,\n",
              "         0.20706765, 0.15151036],\n",
              "        ...,\n",
              "        [0.73412824, 0.8041093 , 0.9363737 , ..., 0.69419189,\n",
              "         0.08175287, 0.12067753],\n",
              "        [0.9287973 , 0.45391492, 0.34016572, ..., 0.40584895,\n",
              "         0.00881561, 0.9617427 ],\n",
              "        [0.4418865 , 0.18461015, 0.83742335, ..., 0.73432586,\n",
              "         0.23178239, 0.69344246]],\n",
              "\n",
              "       [[0.33611088, 0.34451538, 0.19024141, ..., 0.64082984,\n",
              "         0.31590007, 0.35889596],\n",
              "        [0.94891899, 0.72087219, 0.95078933, ..., 0.98106137,\n",
              "         0.83996223, 0.79126122],\n",
              "        [0.2446065 , 0.33414009, 0.99203066, ..., 0.98461398,\n",
              "         0.9374958 , 0.47332527],\n",
              "        ...,\n",
              "        [0.13541051, 0.12850077, 0.90641483, ..., 0.43156757,\n",
              "         0.76680161, 0.74658123],\n",
              "        [0.40545341, 0.92936592, 0.39058724, ..., 0.73181053,\n",
              "         0.95215419, 0.09531118],\n",
              "        [0.40065524, 0.59640254, 0.64538575, ..., 0.13051865,\n",
              "         0.56252122, 0.3607973 ]],\n",
              "\n",
              "       [[0.70610086, 0.49640527, 0.77236637, ..., 0.93327656,\n",
              "         0.84749031, 0.96526075],\n",
              "        [0.76661989, 0.85245838, 0.50032896, ..., 0.90965697,\n",
              "         0.45554406, 0.84422347],\n",
              "        [0.59459936, 0.35706386, 0.48237628, ..., 0.50877189,\n",
              "         0.49783838, 0.97860519],\n",
              "        ...,\n",
              "        [0.29206834, 0.71666078, 0.59863961, ..., 0.68745674,\n",
              "         0.99651021, 0.96601376],\n",
              "        [0.46423708, 0.33266906, 0.7522178 , ..., 0.31370816,\n",
              "         0.99728005, 0.41678698],\n",
              "        [0.60213417, 0.17875926, 0.96444686, ..., 0.71931132,\n",
              "         0.691402  , 0.34144668]],\n",
              "\n",
              "       ...,\n",
              "\n",
              "       [[0.48154278, 0.50367815, 0.82333842, ..., 0.35751697,\n",
              "         0.45503571, 0.13578192],\n",
              "        [0.77448824, 0.34953926, 0.40036451, ..., 0.13214148,\n",
              "         0.24912346, 0.0070196 ],\n",
              "        [0.06867254, 0.24096539, 0.57654101, ..., 0.06411236,\n",
              "         0.58191728, 0.73741027],\n",
              "        ...,\n",
              "        [0.6466945 , 0.03251648, 0.86333137, ..., 0.6643868 ,\n",
              "         0.07751722, 0.98793752],\n",
              "        [0.61351304, 0.38344128, 0.53535111, ..., 0.64995254,\n",
              "         0.18683947, 0.55149613],\n",
              "        [0.16609194, 0.16064838, 0.80604069, ..., 0.12757035,\n",
              "         0.24967649, 0.43736358]],\n",
              "\n",
              "       [[0.21993111, 0.83727703, 0.57544816, ..., 0.94090865,\n",
              "         0.92608968, 0.05656277],\n",
              "        [0.43502416, 0.13680507, 0.00296354, ..., 0.97849558,\n",
              "         0.08248894, 0.10495568],\n",
              "        [0.57632116, 0.2609486 , 0.95966055, ..., 0.06862314,\n",
              "         0.36644479, 0.88194596],\n",
              "        ...,\n",
              "        [0.73852976, 0.15065686, 0.41620998, ..., 0.00601148,\n",
              "         0.34014372, 0.2177657 ],\n",
              "        [0.98561846, 0.89683993, 0.65306801, ..., 0.16126021,\n",
              "         0.91376636, 0.31290205],\n",
              "        [0.94141287, 0.27633405, 0.75766048, ..., 0.09931747,\n",
              "         0.72958096, 0.94339006]],\n",
              "\n",
              "       [[0.28507397, 0.90397966, 0.42099848, ..., 0.79467935,\n",
              "         0.13314179, 0.34954743],\n",
              "        [0.8351808 , 0.83696563, 0.67913718, ..., 0.77096278,\n",
              "         0.34180716, 0.72957097],\n",
              "        [0.19101395, 0.13562613, 0.16498319, ..., 0.3825823 ,\n",
              "         0.59780134, 0.61442357],\n",
              "        ...,\n",
              "        [0.74018447, 0.87484975, 0.7992726 , ..., 0.41120075,\n",
              "         0.78308337, 0.28321184],\n",
              "        [0.45263295, 0.53169391, 0.43779522, ..., 0.95884914,\n",
              "         0.13867072, 0.62953689],\n",
              "        [0.41180141, 0.56070147, 0.6184756 , ..., 0.24570059,\n",
              "         0.28357252, 0.1892774 ]]])"
            ]
          },
          "metadata": {},
          "execution_count": 124
        }
      ]
    },
    {
      "cell_type": "code",
      "source": [
        "np.random.rand(1,2,3)"
      ],
      "metadata": {
        "colab": {
          "base_uri": "https://localhost:8080/"
        },
        "id": "Lg548__DjU1r",
        "outputId": "bb1d2a06-5e8a-4fe9-af9f-58536ad93b19"
      },
      "execution_count": null,
      "outputs": [
        {
          "output_type": "execute_result",
          "data": {
            "text/plain": [
              "array([[[0.70613021, 0.03740106, 0.2169495 ],\n",
              "        [0.37783576, 0.10486674, 0.82171422]]])"
            ]
          },
          "metadata": {},
          "execution_count": 128
        }
      ]
    },
    {
      "cell_type": "markdown",
      "source": [
        "We can produce 1000 datapoints of a normally distributed data set by using np.random.normal()"
      ],
      "metadata": {
        "id": "b_k0iCPxjz_V"
      }
    },
    {
      "cell_type": "code",
      "source": [
        "mu, sigma = 0, 0.1 # mean and standard deviation\n",
        "s = np.random.normal(mu, sigma, 1000)"
      ],
      "metadata": {
        "id": "fPV0qCDyjWew"
      },
      "execution_count": null,
      "outputs": []
    },
    {
      "cell_type": "code",
      "source": [
        "s"
      ],
      "metadata": {
        "colab": {
          "base_uri": "https://localhost:8080/"
        },
        "id": "XhwNQYn4j3Fy",
        "outputId": "eeebd535-08a4-4912-ffc1-bbb8629f174e"
      },
      "execution_count": null,
      "outputs": [
        {
          "output_type": "execute_result",
          "data": {
            "text/plain": [
              "array([-1.20304802e-02,  1.53459249e-01,  2.30126833e-02,  8.91338907e-02,\n",
              "       -2.36050574e-05, -1.39725966e-01,  5.12002700e-02,  3.13257738e-02,\n",
              "        2.84579712e-03, -1.07561348e-01, -1.62707335e-01, -6.85802140e-02,\n",
              "       -3.73106119e-02, -1.18148357e-02,  5.60363122e-02,  7.67386656e-02,\n",
              "       -5.86477304e-02, -2.68343001e-01,  3.64202922e-02, -3.15425836e-02,\n",
              "       -6.64312817e-02,  1.53410234e-02,  1.06485481e-02, -2.05455279e-02,\n",
              "        8.65151708e-02, -6.88844090e-02, -1.62984767e-01, -7.01830996e-02,\n",
              "       -8.35767157e-03,  8.94029800e-02, -6.85339821e-02, -2.00246874e-01,\n",
              "        5.63128696e-02,  4.23859632e-02,  1.90115163e-02, -1.71586304e-01,\n",
              "       -8.69160725e-02,  7.26100198e-02,  5.31034795e-02,  4.37372406e-02,\n",
              "        4.27535043e-02,  1.49680813e-01, -1.43552462e-01,  7.85265956e-02,\n",
              "       -1.26400534e-01, -6.37814284e-02,  1.27438216e-01,  7.46194910e-02,\n",
              "       -2.38786089e-02, -4.43771961e-02, -2.42384187e-02, -8.10829752e-03,\n",
              "        7.07802014e-03, -2.95310894e-02, -1.43436013e-01, -1.69140959e-01,\n",
              "        5.27368558e-04, -1.14780753e-01, -6.82388270e-02,  7.86621686e-02,\n",
              "       -6.45974837e-02, -4.22271784e-02,  1.05955216e-02,  8.41753126e-02,\n",
              "        1.34850475e-01, -2.13489396e-01, -3.77492561e-02, -9.03627473e-02,\n",
              "        1.38385597e-02, -4.73622814e-02,  4.79908569e-02, -5.95230841e-02,\n",
              "        3.94586261e-03, -1.94547873e-02, -1.26633849e-02, -9.89196223e-02,\n",
              "        5.68506478e-02, -9.04504527e-02, -1.42647952e-01,  1.46506430e-02,\n",
              "       -8.19041216e-02, -3.95826492e-02, -5.11091363e-02, -8.72309678e-03,\n",
              "       -2.56788791e-02, -2.04668599e-02,  2.13062431e-01, -8.18162699e-02,\n",
              "        3.93721037e-02, -4.95858352e-02,  9.34775007e-02,  1.81619246e-02,\n",
              "       -1.01088066e-02,  6.94306619e-02, -1.12966626e-01,  4.17685560e-02,\n",
              "        1.89806239e-01,  1.81146594e-01,  5.42729541e-02, -1.59072907e-01,\n",
              "        8.08202808e-02, -1.40076398e-01,  5.14530344e-02, -1.10778920e-02,\n",
              "       -2.31907640e-02, -1.25962469e-01,  1.45887236e-01,  5.94493244e-03,\n",
              "        1.35307466e-01, -1.14221967e-01,  8.49192237e-02, -1.18440269e-01,\n",
              "        9.62479940e-02,  1.90641747e-02,  2.15546869e-01, -5.94599269e-02,\n",
              "       -1.63550211e-01,  1.76280729e-02,  1.23758569e-01, -4.12386274e-03,\n",
              "       -7.54763102e-02, -1.82641039e-02,  4.30528743e-02,  7.90485857e-02,\n",
              "        1.22962650e-01,  2.48928758e-02,  1.25118353e-01,  1.23146569e-02,\n",
              "       -1.20963570e-02,  2.64434549e-02,  4.56223955e-02,  6.32359458e-03,\n",
              "        1.86769562e-01, -8.64779673e-02, -1.13950665e-01,  5.48423758e-02,\n",
              "       -1.27275783e-02,  2.99136108e-02, -1.13697496e-01, -2.35130761e-02,\n",
              "       -1.33281631e-01, -5.99992754e-02,  1.14206364e-01,  3.59534074e-02,\n",
              "        1.20518017e-01,  1.16139346e-01, -5.72684049e-02, -5.50782490e-02,\n",
              "        1.10749110e-01,  6.55871201e-02, -3.19909142e-02, -4.58234557e-02,\n",
              "       -1.42241644e-02, -1.06994496e-01, -1.21878367e-01,  4.58456126e-03,\n",
              "        5.78880104e-02, -2.29613184e-01,  9.62552295e-02, -1.90934527e-01,\n",
              "       -9.34304887e-02, -1.14224056e-01,  8.18673791e-02, -2.37613112e-02,\n",
              "        9.29005267e-02,  1.55271445e-01, -2.33814516e-02,  2.59724566e-01,\n",
              "        1.34025126e-01,  1.98500723e-01,  1.63098408e-02,  1.87975186e-03,\n",
              "        1.40601795e-02,  5.87848520e-03, -1.01015438e-01,  4.68531776e-02,\n",
              "       -8.40721311e-02, -1.34924303e-01,  1.68172233e-01, -3.35813230e-02,\n",
              "       -1.60995232e-01,  4.27691541e-02, -4.39728269e-03,  1.07944679e-01,\n",
              "       -3.79808747e-02, -3.08225358e-02,  7.41493011e-02, -4.70244050e-02,\n",
              "        9.27430412e-02, -7.34882254e-02, -5.81430642e-02,  9.51625133e-02,\n",
              "       -6.56526822e-02,  4.11787072e-02,  1.29675246e-02,  8.38316481e-02,\n",
              "       -7.64500754e-02, -2.73903322e-02, -5.50209306e-02,  9.15145222e-02,\n",
              "        6.88230079e-02,  3.69669004e-02, -2.56834951e-02, -5.53384737e-02,\n",
              "        2.95593872e-03,  8.85676287e-02,  7.96549919e-03, -1.17229753e-01,\n",
              "       -9.64413330e-02, -3.70834604e-02, -1.21078594e-01, -1.31617350e-01,\n",
              "       -5.04959807e-02,  1.78783878e-02, -6.05512812e-02, -6.50960785e-02,\n",
              "       -9.27391412e-02, -1.20396304e-02,  2.72090382e-02, -1.73350364e-02,\n",
              "       -2.66983540e-02,  1.17954571e-01, -1.12477686e-01,  9.42166430e-02,\n",
              "        1.57261501e-01, -6.65372009e-02,  5.31013766e-02, -5.79472657e-02,\n",
              "        7.49802989e-03,  1.25408097e-01,  7.64586193e-02,  7.85547342e-02,\n",
              "       -1.79956443e-01,  6.50151746e-02, -1.27762179e-01, -1.15955683e-01,\n",
              "       -8.98624476e-02,  6.25199820e-03,  1.87198401e-02, -5.66309869e-02,\n",
              "        1.09719377e-01, -2.62755345e-01, -4.05717831e-03, -8.33902299e-03,\n",
              "       -3.10760070e-02, -1.15575836e-01, -1.80526023e-01,  1.66170865e-02,\n",
              "       -2.78442474e-02,  1.93481682e-01,  1.48647999e-01, -4.10983993e-02,\n",
              "        2.34597299e-01, -2.31341765e-02, -1.59044285e-01,  1.66927327e-01,\n",
              "       -1.40096303e-01,  1.28684731e-01, -9.53106398e-02, -1.89855603e-01,\n",
              "       -6.09430331e-03,  2.56280511e-01,  1.37050222e-01,  2.58753962e-01,\n",
              "        2.27973883e-03,  4.54898741e-02, -1.36862698e-02, -7.39134063e-02,\n",
              "       -4.19266652e-02,  5.65378831e-02,  1.44270542e-01, -5.27869245e-02,\n",
              "       -4.64686230e-02, -4.10413213e-02, -5.42392647e-02, -1.31391576e-01,\n",
              "       -2.00606429e-01,  2.60720948e-03,  1.92694222e-01, -8.65445310e-02,\n",
              "        1.34254529e-01,  6.60561553e-02, -5.38585905e-02, -8.46651650e-02,\n",
              "        8.24684134e-02, -5.72968356e-02, -6.00479470e-02,  3.98206327e-02,\n",
              "       -5.66908015e-02,  5.71430112e-02, -2.53452008e-02, -1.49351919e-01,\n",
              "        1.39929585e-02, -1.65670711e-01, -4.49227253e-02, -3.07159705e-01,\n",
              "        1.17612792e-01, -5.21059703e-03, -5.09283725e-02, -1.03340658e-01,\n",
              "        5.45865285e-02, -9.99435128e-02,  1.21848525e-02, -1.84467601e-02,\n",
              "       -1.79378141e-02,  6.13661843e-02, -1.39603164e-01,  7.35810334e-02,\n",
              "       -1.41385703e-01, -1.09574952e-01, -2.61874385e-02, -5.15774475e-02,\n",
              "       -6.29707192e-02,  6.43609001e-02,  1.30388059e-01, -2.72010623e-02,\n",
              "        4.62930361e-03, -2.63742914e-02,  6.99457885e-02, -1.68839231e-01,\n",
              "       -6.01734020e-02,  1.23850550e-02,  1.01813267e-02, -8.27724838e-02,\n",
              "       -1.49047353e-01, -1.31767010e-01,  2.23223315e-02, -1.11571970e-01,\n",
              "        7.27913642e-03, -5.43181999e-02,  6.20962075e-02,  6.61343617e-02,\n",
              "        1.19240153e-01,  7.78352007e-02,  5.46952658e-02, -6.70046402e-02,\n",
              "        7.53624724e-02,  1.55585599e-01,  2.88813868e-02,  1.27573601e-01,\n",
              "        8.32885762e-02, -6.17743859e-02,  1.26585784e-02, -2.02595947e-01,\n",
              "        5.75992386e-02,  8.86673768e-02,  6.63961433e-02, -5.16298816e-02,\n",
              "       -6.06309749e-02, -2.44116782e-02,  1.50544061e-01,  3.96639336e-02,\n",
              "        2.55995795e-02, -2.67944920e-02, -1.34529151e-01,  3.02908178e-02,\n",
              "       -1.22065397e-01,  1.28894818e-01,  1.72117732e-02,  9.09627746e-03,\n",
              "        8.28611847e-02,  9.99803458e-02, -1.55925675e-02, -1.13207192e-01,\n",
              "       -1.18277522e-01,  1.38265700e-01,  6.59616733e-02,  5.02236298e-02,\n",
              "        1.14892012e-01,  1.33332189e-01, -4.21522494e-02, -1.13449171e-01,\n",
              "        6.29155936e-02, -3.96221004e-02, -8.68156314e-02, -1.58976995e-01,\n",
              "       -1.21092777e-01, -2.09769795e-02, -1.76338620e-02, -3.38471123e-02,\n",
              "        1.75113786e-02, -5.96416130e-02, -2.01696448e-01,  5.81686654e-02,\n",
              "        5.25177962e-02, -6.83397977e-02, -1.07890328e-01, -1.12332210e-01,\n",
              "       -6.30010770e-02,  3.49737613e-02, -9.04687593e-02,  8.88980154e-03,\n",
              "        1.52410954e-01, -1.33892407e-01,  1.92460996e-01, -3.73849629e-03,\n",
              "        5.21703726e-02, -7.23125899e-02, -2.05884760e-02,  1.97430087e-01,\n",
              "        9.23403197e-02, -1.66383033e-01, -1.31640893e-01, -9.92320787e-04,\n",
              "        8.31017701e-02,  2.84873212e-02, -1.16989610e-01,  9.74503532e-02,\n",
              "        1.67715926e-01,  1.57606679e-02,  6.29441166e-02,  3.43873165e-03,\n",
              "       -1.17910584e-01, -8.33068388e-02,  9.11395831e-02, -8.13343078e-02,\n",
              "       -1.83591217e-01,  1.05804177e-01,  4.70704568e-02,  7.43668788e-02,\n",
              "        8.19113899e-02,  1.74968972e-02,  1.60302348e-01, -2.96933946e-02,\n",
              "        3.35545698e-02, -1.63591726e-01,  9.04186253e-03, -7.75998554e-02,\n",
              "       -5.88990761e-03, -5.40731073e-02,  1.09656692e-01,  2.56355319e-03,\n",
              "       -5.87702443e-02,  2.16095695e-02, -9.75624355e-02,  2.16437315e-01,\n",
              "        6.91203199e-03, -3.00225819e-02, -7.83329625e-02, -8.14030006e-02,\n",
              "        8.42910325e-02, -7.33195017e-02,  6.40634621e-02, -7.94911220e-02,\n",
              "        8.68335566e-03,  4.97390137e-02, -2.80140900e-03,  1.17048303e-01,\n",
              "       -1.34073727e-01,  1.43137266e-02,  7.40054064e-03, -2.67823795e-02,\n",
              "        9.32955274e-02,  6.43208870e-02, -7.17044738e-03,  2.71319640e-02,\n",
              "        5.39100447e-02,  1.27872769e-01,  1.34799899e-01, -7.61401864e-02,\n",
              "       -1.27011837e-01, -4.18131625e-02, -9.63357517e-02, -1.58805205e-01,\n",
              "        1.13858580e-02,  9.34417729e-02, -1.51581295e-01,  1.84406637e-01,\n",
              "        6.88914325e-03,  2.34398730e-02, -2.70405835e-02,  9.57128094e-02,\n",
              "        1.35465802e-01, -1.10365622e-01, -5.04569589e-02,  1.29872964e-01,\n",
              "        1.54572986e-01, -5.16011118e-02,  1.04221109e-01,  7.61157338e-03,\n",
              "        2.50802239e-02,  1.76322961e-02, -2.17650493e-01, -1.28941452e-01,\n",
              "        5.25439199e-02,  2.31065539e-02,  4.26384983e-02, -2.93289378e-01,\n",
              "        6.98521221e-02,  1.08390667e-01,  9.10544927e-02,  1.34199102e-01,\n",
              "       -1.07185507e-01, -1.06094097e-01, -7.68957381e-02, -3.97878528e-02,\n",
              "        1.48127735e-01, -1.31053006e-01, -1.46802192e-01,  6.45912288e-02,\n",
              "        8.26630869e-02, -8.12033168e-03, -8.24881272e-02,  6.80017554e-02,\n",
              "        3.46084669e-02, -8.70853306e-02, -4.04914431e-02,  1.71093498e-01,\n",
              "       -1.35232145e-01, -1.93214304e-01,  5.91509972e-02,  1.93094855e-02,\n",
              "       -6.31615841e-02, -8.98032440e-02,  8.57614523e-03, -1.02575498e-02,\n",
              "       -1.13591674e-01,  4.90644782e-02,  1.98296208e-01,  1.60559978e-01,\n",
              "       -1.25648673e-01,  9.21919119e-02,  3.24150443e-02, -7.04311523e-02,\n",
              "        1.79511062e-02, -1.98508509e-01,  8.06450283e-02, -3.95852562e-02,\n",
              "       -1.55756523e-02, -1.04094000e-01, -4.73835739e-02, -1.36783932e-01,\n",
              "        2.79824460e-02, -1.90083519e-01, -5.33219616e-02, -1.27167975e-01,\n",
              "        5.23399931e-02, -7.85620325e-02,  5.92014345e-02, -8.17588000e-02,\n",
              "       -2.99156819e-01,  2.52913596e-02,  5.71685238e-02,  4.34651693e-02,\n",
              "        6.76128077e-02,  1.48777645e-01, -4.45764610e-02, -1.78588713e-01,\n",
              "        5.73989205e-02, -3.74914351e-03, -4.09620875e-03, -7.22865648e-03,\n",
              "        2.16567941e-02, -9.67069276e-02, -7.65454255e-02,  1.30131267e-01,\n",
              "        8.01693555e-02,  2.29749485e-02,  1.02768269e-01, -6.49338782e-02,\n",
              "       -1.93398898e-02,  2.50524187e-02,  1.09633448e-02,  1.37294442e-02,\n",
              "       -1.78185788e-02,  6.05357693e-02,  2.86514989e-02,  4.38467532e-02,\n",
              "       -2.97692662e-02,  9.23963126e-02,  1.22863204e-03, -3.95775909e-02,\n",
              "       -1.89414500e-01,  5.20918671e-02, -4.45488700e-03,  2.68939928e-02,\n",
              "       -2.08607281e-01,  5.15640486e-02, -4.00944035e-02,  1.00212735e-01,\n",
              "       -1.30456059e-01,  3.65875412e-02, -3.11080283e-02,  2.41764277e-02,\n",
              "        2.02216954e-01,  1.05530265e-01, -2.05113169e-01,  1.13954937e-01,\n",
              "       -2.32998393e-03, -1.24226689e-01, -9.19612978e-02, -1.43664611e-01,\n",
              "       -2.59178763e-02, -4.50662642e-02, -3.59783927e-02, -1.02201782e-01,\n",
              "        1.28051919e-01, -1.38865723e-01,  5.17681066e-02,  1.92441184e-01,\n",
              "       -9.28572608e-02,  8.29980819e-02, -1.47092188e-01, -6.73213847e-02,\n",
              "        4.22675698e-03, -7.54136644e-02,  2.29261421e-01, -7.53567574e-02,\n",
              "        5.53600379e-02, -2.88604235e-03, -2.32562718e-02,  5.74678063e-02,\n",
              "       -6.90531175e-02, -2.97125005e-02, -1.94841315e-01,  5.89717433e-02,\n",
              "       -7.02848085e-03,  4.35220092e-02, -1.26393226e-01, -1.17122767e-01,\n",
              "        3.18599631e-02, -4.03124620e-02,  1.91753920e-01,  1.22869133e-01,\n",
              "       -1.59936619e-01, -1.06702163e-01,  4.58169224e-02,  7.25925272e-02,\n",
              "        2.28077388e-02,  6.04035901e-02,  3.93808917e-02, -6.45293869e-03,\n",
              "        1.33142533e-01, -8.82429403e-02, -2.61868995e-01,  7.58701718e-02,\n",
              "       -2.61589538e-02,  5.65370586e-02, -2.10302691e-03, -2.77907775e-02,\n",
              "       -1.21155958e-02,  8.87264391e-02,  1.17667894e-01,  5.32367689e-02,\n",
              "        1.37642201e-01,  3.91013890e-02,  2.11641541e-02,  1.86239562e-01,\n",
              "        5.13282845e-02,  6.82417807e-02,  1.72014182e-01,  9.64822115e-03,\n",
              "        2.82407192e-03, -7.82804665e-02, -1.53488292e-02, -1.81919284e-01,\n",
              "        1.82965201e-01, -1.04692492e-01, -1.30848451e-02,  2.94100067e-02,\n",
              "        3.46494386e-03, -7.96193677e-02, -9.28387726e-02, -2.16245554e-01,\n",
              "        9.27579562e-02,  1.09043434e-01,  2.07960103e-02, -2.63612004e-01,\n",
              "        1.37152556e-01, -9.19661949e-02, -9.29399632e-02, -1.54016904e-01,\n",
              "        7.25640719e-02,  5.32460951e-02,  8.53592670e-02, -7.80484260e-02,\n",
              "       -3.57057446e-02,  1.74454982e-02,  5.16558220e-02, -4.56305631e-02,\n",
              "       -6.39528010e-02,  6.69434069e-02, -7.89634141e-03,  1.03528113e-02,\n",
              "        1.25410423e-01,  1.29417057e-01, -3.53356492e-02, -3.43600290e-02,\n",
              "        4.35689998e-02,  1.36655830e-01,  1.40969647e-02,  9.67911762e-02,\n",
              "       -7.56843035e-02,  7.42920362e-02, -2.62470786e-02,  1.83730268e-02,\n",
              "        1.60100894e-03,  6.19810323e-02,  1.85252098e-02, -2.08787309e-02,\n",
              "        2.36651205e-02,  1.85102606e-03, -1.06415198e-01,  6.68623896e-02,\n",
              "       -1.03703959e-01,  7.59400422e-02, -2.14238491e-01,  1.18366390e-01,\n",
              "       -1.52991913e-02,  1.47318896e-01, -1.04442321e-01,  1.53453482e-02,\n",
              "        1.94279948e-01,  5.74659467e-02,  1.71611498e-02,  1.21563902e-01,\n",
              "       -8.17639168e-02,  4.94207726e-02,  6.57365777e-02, -7.64259071e-02,\n",
              "        1.71879762e-01, -3.35907846e-02, -8.25308982e-02, -1.55331325e-01,\n",
              "        5.42167305e-03,  3.45882991e-02,  1.40127179e-02,  8.23389665e-02,\n",
              "       -7.20966935e-02,  2.67766951e-02, -4.81642886e-03,  1.88356040e-01,\n",
              "       -2.02065541e-02, -7.37613845e-02,  1.88972523e-02, -1.64521258e-01,\n",
              "        5.23194280e-02, -7.52660065e-02,  1.86027490e-01,  6.26050175e-02,\n",
              "       -6.36397013e-02, -1.25661950e-01, -1.22203064e-01,  1.60413612e-02,\n",
              "        4.36920881e-02,  8.60974890e-02, -1.76537726e-01, -2.99067654e-02,\n",
              "        3.79561712e-02,  5.15201173e-02, -1.26432253e-01, -1.81801400e-01,\n",
              "        1.13764165e-02, -3.14895868e-02, -9.87120331e-02,  1.48684637e-02,\n",
              "        5.91899270e-02, -4.45388236e-02, -1.48853796e-01, -2.56525260e-02,\n",
              "        1.97558869e-01, -1.90331652e-02, -1.49216048e-01, -1.06981085e-01,\n",
              "       -1.69427695e-02, -1.00647011e-01, -5.55435357e-02,  1.98956385e-01,\n",
              "       -6.62952520e-02,  4.60907926e-02, -1.02634549e-01,  2.47689985e-01,\n",
              "        5.40383032e-03,  1.01540931e-01,  4.17753200e-03,  1.05704671e-01,\n",
              "       -6.82713139e-02,  8.65589830e-02,  1.04175287e-01,  1.30923112e-01,\n",
              "       -9.35589510e-02, -9.55493152e-02,  2.97098744e-02,  2.45993583e-02,\n",
              "        1.09914541e-01,  2.14650892e-02,  2.27872783e-01, -1.44472189e-02,\n",
              "        5.15453237e-02,  9.26756278e-02, -2.19708886e-01,  4.97228726e-02,\n",
              "        4.77267895e-02,  1.55814124e-01,  1.34574747e-01,  1.50613037e-02,\n",
              "        7.46785018e-02, -1.10905433e-02,  7.23089568e-02, -8.79090588e-02,\n",
              "        2.16768920e-02,  2.87309752e-02,  9.94434940e-02, -4.93181795e-02,\n",
              "       -5.66822248e-02,  1.30597483e-01,  9.08783804e-04, -5.93100487e-02,\n",
              "       -3.62749077e-02, -1.57354903e-01,  1.74434590e-01, -1.03643315e-02,\n",
              "       -2.09767643e-01,  1.67638420e-01, -2.55315410e-02, -3.15390257e-02,\n",
              "       -4.43039442e-03,  1.16717483e-03,  2.61538638e-02,  9.50344062e-02,\n",
              "        1.99400467e-02,  7.99289404e-02, -8.22770050e-02,  7.13273747e-03,\n",
              "       -3.25406297e-02, -5.04731622e-02, -2.90908217e-02,  1.52539693e-01,\n",
              "       -1.06011950e-01,  3.36058621e-02, -2.72058739e-02, -1.77817056e-01,\n",
              "       -7.14403847e-02, -1.13161240e-01, -3.33379157e-02, -6.39670443e-02,\n",
              "        3.67504862e-02, -2.83131198e-02, -1.05499221e-01,  7.66544980e-02,\n",
              "       -5.46016144e-02, -1.16347654e-01,  2.38563373e-01, -7.50614819e-02,\n",
              "       -2.57190173e-02, -4.42876430e-02, -7.95482373e-02,  1.21739540e-01,\n",
              "        2.55376622e-02, -6.16019542e-02,  9.22554101e-02,  1.24499745e-01,\n",
              "       -1.47565595e-01, -1.93765958e-02,  1.66492641e-02,  4.14510073e-04,\n",
              "        1.43880274e-01,  1.76335995e-01, -1.81102012e-01,  1.40388491e-01,\n",
              "       -6.58641136e-02, -8.99049404e-02,  2.43399505e-01, -3.38078130e-02,\n",
              "        2.87618421e-02, -2.11889065e-02, -5.37440925e-02, -3.58502428e-02,\n",
              "        2.00147803e-02,  1.55884114e-01, -2.83230138e-01, -6.85962176e-02,\n",
              "        1.78063315e-01,  1.74812904e-01, -5.05016450e-02,  1.87299617e-01,\n",
              "        2.31095524e-02, -5.14632640e-02,  1.08281568e-02,  1.90558036e-01,\n",
              "        2.19172292e-02,  2.09141792e-02, -1.14164864e-01,  1.42503525e-01,\n",
              "       -1.15818875e-01, -1.78508424e-03,  7.98010345e-02, -1.00909700e-01,\n",
              "        1.09787052e-01, -4.84849700e-03,  7.88076434e-02,  2.28564777e-01,\n",
              "        1.14338692e-01, -1.55795742e-02, -2.02846987e-02, -2.22232250e-01,\n",
              "       -9.10354284e-02, -4.76297175e-02,  2.78569655e-02, -6.03722090e-02,\n",
              "       -9.33506596e-02, -8.66320753e-02, -5.27753408e-02,  3.87816173e-03,\n",
              "       -8.38050829e-03, -1.60221660e-01,  1.77166300e-01, -1.10857024e-01,\n",
              "        4.84426371e-02, -3.54552620e-02, -1.17976727e-01, -3.22091001e-02,\n",
              "        2.28154911e-01, -1.45729946e-01,  8.56145389e-04, -4.18024144e-02,\n",
              "       -1.14814894e-01,  2.14123133e-01, -5.02436250e-02,  1.23094415e-01,\n",
              "        4.96110008e-02, -1.59236143e-01, -9.77922797e-02, -9.86615204e-02,\n",
              "        1.73743923e-02, -5.42957303e-02, -7.76384595e-02, -3.09834354e-02,\n",
              "       -2.46052615e-01,  8.69516822e-03,  1.44482412e-01, -3.64179509e-02,\n",
              "       -4.35191327e-02, -1.74586439e-01, -7.01444724e-02, -2.10301346e-01,\n",
              "        9.52822614e-02,  6.49093279e-02,  3.03162324e-02, -2.59238885e-02,\n",
              "        4.67550829e-02, -8.77989831e-03,  2.13750254e-01, -4.11398691e-02,\n",
              "        6.53881694e-02, -4.29555873e-02,  3.33249425e-02,  1.14888287e-01,\n",
              "        5.72194481e-02, -1.94180486e-02, -1.07386749e-01, -2.18343717e-02,\n",
              "        3.16532063e-01,  6.47909731e-02, -7.58592431e-02,  1.29824045e-01,\n",
              "        1.80625192e-01,  6.62151026e-03, -2.75278926e-02, -8.36940842e-02,\n",
              "        5.02466212e-03, -1.72175232e-01,  8.32892577e-02,  1.29782888e-01,\n",
              "        1.12841652e-02, -1.65002195e-01,  6.99138903e-02,  7.93864013e-02,\n",
              "        5.69066036e-02, -2.45630338e-02, -1.94181951e-01, -1.30994324e-01,\n",
              "       -1.60671860e-01,  1.99956415e-02,  7.68197449e-02, -9.09776716e-02,\n",
              "        3.70386166e-02,  1.22005875e-01,  4.74870479e-02,  1.02427949e-01,\n",
              "       -4.95550741e-02,  7.55127485e-02,  5.24107825e-02,  5.14448976e-02,\n",
              "        9.23694223e-02,  5.50366906e-02, -1.81527441e-01, -1.66491927e-02,\n",
              "       -4.51792649e-02,  1.15864344e-02, -6.37770401e-02,  5.52725189e-03,\n",
              "        6.97782449e-02,  5.89589858e-02,  8.95057287e-02, -1.35373591e-02,\n",
              "       -8.82525997e-02,  7.60300107e-02,  1.52929768e-01,  1.96547017e-02])"
            ]
          },
          "metadata": {},
          "execution_count": 130
        }
      ]
    },
    {
      "cell_type": "markdown",
      "source": [
        "#Exercise\n",
        "Simulate a six-sided dice using numpy.random.choice(), generate a list of values you would obtain from 10 throws.\n",
        "Simulate a two-sided coin toss that is NOT fair: it is twice as likely to have head than tails."
      ],
      "metadata": {
        "id": "rGiSSHOyj6mh"
      }
    },
    {
      "cell_type": "code",
      "source": [
        "np.random.choice([1,2,3,4,5,6],10)"
      ],
      "metadata": {
        "colab": {
          "base_uri": "https://localhost:8080/"
        },
        "id": "JCp8GXaaj5Di",
        "outputId": "d9176f51-bf82-41d8-fcac-97b079089674"
      },
      "execution_count": null,
      "outputs": [
        {
          "output_type": "execute_result",
          "data": {
            "text/plain": [
              "array([4, 5, 1, 1, 3, 5, 6, 4, 1, 5])"
            ]
          },
          "metadata": {},
          "execution_count": 131
        }
      ]
    },
    {
      "cell_type": "code",
      "source": [
        "toss=np.random.choice(['Head','Head','Tail'],10)"
      ],
      "metadata": {
        "id": "G1nG4iojkHAf"
      },
      "execution_count": null,
      "outputs": []
    },
    {
      "cell_type": "code",
      "source": [
        "toss"
      ],
      "metadata": {
        "colab": {
          "base_uri": "https://localhost:8080/"
        },
        "id": "oI1lSyzJmkyQ",
        "outputId": "67818760-b7bc-471c-f3c8-a67ea5d155ed"
      },
      "execution_count": null,
      "outputs": [
        {
          "output_type": "execute_result",
          "data": {
            "text/plain": [
              "array(['Head', 'Head', 'Tail', 'Head', 'Head', 'Head', 'Tail', 'Head',\n",
              "       'Head', 'Tail'], dtype='<U4')"
            ]
          },
          "metadata": {},
          "execution_count": 133
        }
      ]
    },
    {
      "cell_type": "code",
      "source": [],
      "metadata": {
        "id": "umiNgAUumlvd"
      },
      "execution_count": null,
      "outputs": []
    }
  ]
}