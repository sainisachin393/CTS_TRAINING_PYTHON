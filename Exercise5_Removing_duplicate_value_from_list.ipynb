{
  "nbformat": 4,
  "nbformat_minor": 0,
  "metadata": {
    "colab": {
      "provenance": []
    },
    "kernelspec": {
      "name": "python3",
      "display_name": "Python 3"
    },
    "language_info": {
      "name": "python"
    }
  },
  "cells": [
    {
      "cell_type": "code",
      "execution_count": null,
      "metadata": {
        "colab": {
          "base_uri": "https://localhost:8080/"
        },
        "id": "5M38IXcMmfbw",
        "outputId": "e62c7c07-65e8-463b-cbef-3651e007916e"
      },
      "outputs": [
        {
          "name": "stdout",
          "output_type": "stream",
          "text": [
            "enter how many number you want to take in the list3\n"
          ]
        }
      ],
      "source": [
        "a=int(input(\"enter how many number you want to take in the list\"))"
      ]
    },
    {
      "cell_type": "code",
      "source": [
        "\n",
        "l=[]\n",
        "for i in range(1,a+1):\n",
        "  p=int(input(\"enter your number\"))\n",
        "  l.append(p)\n",
        "  \n",
        "\n"
      ],
      "metadata": {
        "colab": {
          "base_uri": "https://localhost:8080/"
        },
        "id": "b_RbCkR-m2Pz",
        "outputId": "0c7f870a-399a-449c-e860-a041a9699d8c"
      },
      "execution_count": null,
      "outputs": [
        {
          "name": "stdout",
          "output_type": "stream",
          "text": [
            "enter your number1\n",
            "enter your number1\n",
            "enter your number2\n"
          ]
        }
      ]
    },
    {
      "cell_type": "code",
      "source": [
        "l"
      ],
      "metadata": {
        "colab": {
          "base_uri": "https://localhost:8080/"
        },
        "id": "3BGoid-lnY1d",
        "outputId": "3bbe178c-7f70-4f70-ae6c-06722ab0898e"
      },
      "execution_count": null,
      "outputs": [
        {
          "output_type": "execute_result",
          "data": {
            "text/plain": [
              "[1, 1, 2]"
            ]
          },
          "metadata": {},
          "execution_count": 14
        }
      ]
    },
    {
      "cell_type": "code",
      "source": [
        "result = [] \n",
        "for i in l: \n",
        "    if i not in result: \n",
        "        result.append(i) "
      ],
      "metadata": {
        "id": "epKcId-tn2AC"
      },
      "execution_count": null,
      "outputs": []
    },
    {
      "cell_type": "code",
      "source": [
        "result"
      ],
      "metadata": {
        "colab": {
          "base_uri": "https://localhost:8080/"
        },
        "id": "YcWqIIRIowqM",
        "outputId": "046ea318-6635-4df2-99ef-74a28d9f7f81"
      },
      "execution_count": null,
      "outputs": [
        {
          "output_type": "execute_result",
          "data": {
            "text/plain": [
              "[1, 2]"
            ]
          },
          "metadata": {},
          "execution_count": 16
        }
      ]
    },
    {
      "cell_type": "code",
      "source": [],
      "metadata": {
        "id": "hl4PrFK8o2xq"
      },
      "execution_count": null,
      "outputs": []
    }
  ]
}