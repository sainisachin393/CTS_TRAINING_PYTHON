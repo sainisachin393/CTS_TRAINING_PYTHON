{
  "nbformat": 4,
  "nbformat_minor": 0,
  "metadata": {
    "colab": {
      "provenance": []
    },
    "kernelspec": {
      "name": "python3",
      "display_name": "Python 3"
    },
    "language_info": {
      "name": "python"
    }
  },
  "cells": [
    {
      "cell_type": "code",
      "execution_count": null,
      "metadata": {
        "colab": {
          "base_uri": "https://localhost:8080/"
        },
        "id": "to9NKkXN9bUv",
        "outputId": "ea6fe6fd-a521-44c8-adc5-f46e00247518"
      },
      "outputs": [
        {
          "output_type": "stream",
          "name": "stdout",
          "text": [
            "Enter your wordshello potato? hello how are you\n",
            "Dictionary of word count  :   {'hello': 2, 'potato?': 1, 'how': 1, 'are': 1, 'you': 1}\n"
          ]
        }
      ],
      "source": [
        "\n",
        "l=str(input(\"Enter your words\"))\n",
        "  \n",
        "e=list(l.split(\" \"))\n",
        "  \n",
        "b= [e.count(i) for i in e]\n",
        "\n",
        "dict_output = dict(zip(e, b))\n",
        "print(\"Dictionary of word count  :  \", dict_output)"
      ]
    },
    {
      "cell_type": "code",
      "source": [],
      "metadata": {
        "id": "jR9gL8IV9bxt"
      },
      "execution_count": null,
      "outputs": []
    },
    {
      "cell_type": "code",
      "source": [],
      "metadata": {
        "id": "7ZGv6x4s-vaj"
      },
      "execution_count": null,
      "outputs": []
    }
  ]
}